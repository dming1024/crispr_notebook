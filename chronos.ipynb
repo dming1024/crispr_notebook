{
 "cells": [
  {
   "cell_type": "markdown",
   "metadata": {},
   "source": [
    "# 分析screen数据\n",
    "\n",
    "采用chronos流程分析screen数据，并与我们现有的mageck RRA/MLE 分析结果作比较"
   ]
  },
  {
   "cell_type": "markdown",
   "metadata": {},
   "source": [
    "## Imports"
   ]
  },
  {
   "cell_type": "code",
   "execution_count": 1,
   "metadata": {},
   "outputs": [],
   "source": [
    "%load_ext autoreload\n",
    "%autoreload 2"
   ]
  },
  {
   "cell_type": "code",
   "execution_count": 2,
   "metadata": {},
   "outputs": [
    {
     "name": "stderr",
     "output_type": "stream",
     "text": [
      "C:\\Users\\fan_qiangqiang\\AppData\\Local\\Temp\\ipykernel_24416\\2037430326.py:2: DeprecationWarning: \n",
      "Pyarrow will become a required dependency of pandas in the next major release of pandas (pandas 3.0),\n",
      "(to allow more performant data types, such as the Arrow string type, and better interoperability with other libraries)\n",
      "but was not found to be installed on your system.\n",
      "If this would cause problems for you,\n",
      "please provide us feedback at https://github.com/pandas-dev/pandas/issues/54466\n",
      "        \n",
      "  import pandas as pd\n"
     ]
    },
    {
     "name": "stdout",
     "output_type": "stream",
     "text": [
      "WARNING:tensorflow:From D:\\Miniconda3\\envs\\chronos\\Lib\\site-packages\\keras\\src\\losses.py:2976: The name tf.losses.sparse_softmax_cross_entropy is deprecated. Please use tf.compat.v1.losses.sparse_softmax_cross_entropy instead.\n",
      "\n",
      "WARNING:tensorflow:From D:\\Miniconda3\\envs\\chronos\\Lib\\site-packages\\chronos\\model.py:18: The name tf.disable_eager_execution is deprecated. Please use tf.compat.v1.disable_eager_execution instead.\n",
      "\n"
     ]
    }
   ],
   "source": [
    "import numpy as np\n",
    "import pandas as pd\n",
    "import chronos\n",
    "import os\n",
    "from matplotlib import pyplot as plt\n",
    "import seaborn as sns\n",
    "#from taigapy import default_tc as tc"
   ]
  },
  {
   "cell_type": "markdown",
   "metadata": {},
   "source": [
    "Some tweaks that will make plots more legible"
   ]
  },
  {
   "cell_type": "code",
   "execution_count": 3,
   "metadata": {},
   "outputs": [],
   "source": [
    "from matplotlib import rcParams\n",
    "rcParams['axes.titlesize'] = 14\n",
    "rcParams['axes.spines.right'] = False\n",
    "rcParams['axes.spines.top'] = False\n",
    "rcParams['savefig.dpi'] = 200\n",
    "rcParams['savefig.transparent'] = False\n",
    "rcParams['font.family'] = 'Arial'\n",
    "rcParams['font.size'] = '11'\n",
    "rcParams['figure.dpi'] = 200\n",
    "rcParams[\"savefig.facecolor\"] = (1, 1, 1.0, 0.2)\n",
    "\n",
    "rcParams['xtick.labelsize'] = 10\n",
    "rcParams['ytick.labelsize'] = 10\n",
    "rcParams['legend.fontsize'] = 7"
   ]
  },
  {
   "cell_type": "markdown",
   "metadata": {},
   "source": [
    "## Setting up the Data"
   ]
  },
  {
   "cell_type": "markdown",
   "metadata": {},
   "source": [
    "Chronos always requires at least three dataframes: \n",
    "* a matrix of readcounts with sequenced entities as the index, individual sgRNAs as the columns, and values indicating how many reads were found for that sgRNA. A sequenced entity any vector of sgRNA readcounts read out during the experiment. It could be a sequencing run of pDNA, or of a biological replicate at some time point during the experiment.\n",
    "* A sequence map mapping sequenced entities to either pDNA or a cell line and giving the days since infection and pDNA batch. \n",
    "* A guide map mapping sgRNAs to genes. Each sgRNA included must map to one and only one gene."
   ]
  },
  {
   "cell_type": "markdown",
   "metadata": {},
   "source": [
    "Below, we'll load a small subset of the DepMap Avana data. The files have been reformatted from the release to the format Chronos expects"
   ]
  },
  {
   "cell_type": "code",
   "execution_count": 59,
   "metadata": {},
   "outputs": [
    {
     "data": {
      "text/html": [
       "<div>\n",
       "<style scoped>\n",
       "    .dataframe tbody tr th:only-of-type {\n",
       "        vertical-align: middle;\n",
       "    }\n",
       "\n",
       "    .dataframe tbody tr th {\n",
       "        vertical-align: top;\n",
       "    }\n",
       "\n",
       "    .dataframe thead th {\n",
       "        text-align: right;\n",
       "    }\n",
       "</style>\n",
       "<table border=\"1\" class=\"dataframe\">\n",
       "  <thead>\n",
       "    <tr style=\"text-align: right;\">\n",
       "      <th></th>\n",
       "      <th>sequence_ID</th>\n",
       "      <th>cell_line_name</th>\n",
       "      <th>pDNA_batch</th>\n",
       "      <th>days</th>\n",
       "    </tr>\n",
       "  </thead>\n",
       "  <tbody>\n",
       "    <tr>\n",
       "      <th>0</th>\n",
       "      <td>A375-Base-NTC-1</td>\n",
       "      <td>pDNA</td>\n",
       "      <td>0</td>\n",
       "      <td>0</td>\n",
       "    </tr>\n",
       "    <tr>\n",
       "      <th>1</th>\n",
       "      <td>A375-Base-NTC-2</td>\n",
       "      <td>pDNA</td>\n",
       "      <td>0</td>\n",
       "      <td>0</td>\n",
       "    </tr>\n",
       "    <tr>\n",
       "      <th>2</th>\n",
       "      <td>A375-Base-NTC-3</td>\n",
       "      <td>pDNA</td>\n",
       "      <td>0</td>\n",
       "      <td>0</td>\n",
       "    </tr>\n",
       "    <tr>\n",
       "      <th>3</th>\n",
       "      <td>A375-Base-KAT7-1</td>\n",
       "      <td>pDNA</td>\n",
       "      <td>1</td>\n",
       "      <td>0</td>\n",
       "    </tr>\n",
       "    <tr>\n",
       "      <th>4</th>\n",
       "      <td>A375-Base-KAT7-2</td>\n",
       "      <td>pDNA</td>\n",
       "      <td>1</td>\n",
       "      <td>0</td>\n",
       "    </tr>\n",
       "  </tbody>\n",
       "</table>\n",
       "</div>"
      ],
      "text/plain": [
       "        sequence_ID cell_line_name  pDNA_batch  days\n",
       "0   A375-Base-NTC-1           pDNA           0     0\n",
       "1   A375-Base-NTC-2           pDNA           0     0\n",
       "2   A375-Base-NTC-3           pDNA           0     0\n",
       "3  A375-Base-KAT7-1           pDNA           1     0\n",
       "4  A375-Base-KAT7-2           pDNA           1     0"
      ]
     },
     "execution_count": 59,
     "metadata": {},
     "output_type": "execute_result"
    }
   ],
   "source": [
    "#读入我们自己的数据：\n",
    "sequence_map=pd.read_excel(\"QC_crispr/example_data/sequence_map.xlsx\")\n",
    "sequence_map[:5]"
   ]
  },
  {
   "cell_type": "markdown",
   "metadata": {},
   "source": [
    "Sequence maps must have the columns\n",
    "\n",
    "* sequence_id (str), which must match a row in readcounts\n",
    "* cell_line_name (str). Must be \"pDNA\" for pDNA, and each pDNA batch must have at least one pDNA measurement.\n",
    "* pDNA batch (any simple hashable type, preferably int or str). pDNA measurements sharing the same batch will be grouped and averaged, then used as the reference for all biological replicate sequencings assigned that same batch. If you don't have multiple pDNA batches (by far the most common experimental condition), just fill this column with 0 or some other constant value.\n",
    "* days: days post infection. This value will be ignored for pDNA.\n",
    "\n",
    "Other columns will be ignored."
   ]
  },
  {
   "cell_type": "markdown",
   "metadata": {},
   "source": [
    "Guide maps must have the columns \n",
    "\n",
    "* sgrna (str): must match a column in readcounts. An sgrna can only appear once in this data frame.\n",
    "* gene (str): the gene the sgrna maps to.\n",
    "\n",
    "Other columns will be ignored."
   ]
  },
  {
   "cell_type": "code",
   "execution_count": 17,
   "metadata": {},
   "outputs": [
    {
     "data": {
      "text/html": [
       "<div>\n",
       "<style scoped>\n",
       "    .dataframe tbody tr th:only-of-type {\n",
       "        vertical-align: middle;\n",
       "    }\n",
       "\n",
       "    .dataframe tbody tr th {\n",
       "        vertical-align: top;\n",
       "    }\n",
       "\n",
       "    .dataframe thead th {\n",
       "        text-align: right;\n",
       "    }\n",
       "</style>\n",
       "<table border=\"1\" class=\"dataframe\">\n",
       "  <thead>\n",
       "    <tr style=\"text-align: right;\">\n",
       "      <th></th>\n",
       "      <th>sgrna</th>\n",
       "      <th>gene</th>\n",
       "    </tr>\n",
       "  </thead>\n",
       "  <tbody>\n",
       "    <tr>\n",
       "      <th>0</th>\n",
       "      <td>sg_A1BG_1</td>\n",
       "      <td>A1BG</td>\n",
       "    </tr>\n",
       "    <tr>\n",
       "      <th>1</th>\n",
       "      <td>sg_A1BG_2</td>\n",
       "      <td>A1BG</td>\n",
       "    </tr>\n",
       "    <tr>\n",
       "      <th>2</th>\n",
       "      <td>sg_A1BG_3</td>\n",
       "      <td>A1BG</td>\n",
       "    </tr>\n",
       "    <tr>\n",
       "      <th>3</th>\n",
       "      <td>sg_A1BG_4</td>\n",
       "      <td>A1BG</td>\n",
       "    </tr>\n",
       "  </tbody>\n",
       "</table>\n",
       "</div>"
      ],
      "text/plain": [
       "       sgrna  gene\n",
       "0  sg_A1BG_1  A1BG\n",
       "1  sg_A1BG_2  A1BG\n",
       "2  sg_A1BG_3  A1BG\n",
       "3  sg_A1BG_4  A1BG"
      ]
     },
     "execution_count": 17,
     "metadata": {},
     "output_type": "execute_result"
    }
   ],
   "source": [
    "#读入我们自己的数据：\n",
    "guide_map=pd.read_csv(\"QC_crispr/example_data/human.TKOv3_guide_sequence_Addgene90294.csv\").rename(columns={'id': 'sgrna', 'Gene': 'gene'})\n",
    "guide_map=guide_map[['sgrna','gene']]\n",
    "guide_map[:4]"
   ]
  },
  {
   "cell_type": "markdown",
   "metadata": {},
   "source": [
    "Finally, here's what readcounts should look like. They can include NaNs. Note the axes."
   ]
  },
  {
   "cell_type": "code",
   "execution_count": 34,
   "metadata": {},
   "outputs": [
    {
     "data": {
      "text/html": [
       "<div>\n",
       "<style scoped>\n",
       "    .dataframe tbody tr th:only-of-type {\n",
       "        vertical-align: middle;\n",
       "    }\n",
       "\n",
       "    .dataframe tbody tr th {\n",
       "        vertical-align: top;\n",
       "    }\n",
       "\n",
       "    .dataframe thead th {\n",
       "        text-align: right;\n",
       "    }\n",
       "</style>\n",
       "<table border=\"1\" class=\"dataframe\">\n",
       "  <thead>\n",
       "    <tr style=\"text-align: right;\">\n",
       "      <th>sgRNA</th>\n",
       "      <th>sg_SLC36A2_3</th>\n",
       "      <th>sg_PIWIL3_3</th>\n",
       "      <th>sg_FBXO21_2</th>\n",
       "    </tr>\n",
       "  </thead>\n",
       "  <tbody>\n",
       "    <tr>\n",
       "      <th>A375-Base-NTC-1</th>\n",
       "      <td>2107</td>\n",
       "      <td>691</td>\n",
       "      <td>2867</td>\n",
       "    </tr>\n",
       "    <tr>\n",
       "      <th>A375-Base-NTC-2</th>\n",
       "      <td>2075</td>\n",
       "      <td>675</td>\n",
       "      <td>2670</td>\n",
       "    </tr>\n",
       "    <tr>\n",
       "      <th>A375-Base-NTC-3</th>\n",
       "      <td>2019</td>\n",
       "      <td>593</td>\n",
       "      <td>2681</td>\n",
       "    </tr>\n",
       "    <tr>\n",
       "      <th>A375-Base-KAT7-1</th>\n",
       "      <td>2158</td>\n",
       "      <td>611</td>\n",
       "      <td>2662</td>\n",
       "    </tr>\n",
       "  </tbody>\n",
       "</table>\n",
       "</div>"
      ],
      "text/plain": [
       "sgRNA             sg_SLC36A2_3  sg_PIWIL3_3  sg_FBXO21_2\n",
       "A375-Base-NTC-1           2107          691         2867\n",
       "A375-Base-NTC-2           2075          675         2670\n",
       "A375-Base-NTC-3           2019          593         2681\n",
       "A375-Base-KAT7-1          2158          611         2662"
      ]
     },
     "execution_count": 34,
     "metadata": {},
     "output_type": "execute_result"
    }
   ],
   "source": [
    "#读入我们自己的数据：\n",
    "readcounts=pd.read_csv(\"QC_crispr/example_data/all.count.txt\",sep=\"\\t\",index_col='sgRNA').drop('Gene', axis=1)\n",
    "#guide_map=guide_map[['sgrna','gene']]\n",
    "readcounts=readcounts.T\n",
    "readcounts.iloc[:4, :3]"
   ]
  },
  {
   "cell_type": "code",
   "execution_count": 70,
   "metadata": {},
   "outputs": [],
   "source": [
    "readcounts.to_csv(\"readcounts.csv\")"
   ]
  },
  {
   "cell_type": "markdown",
   "metadata": {},
   "source": [
    "To QC the data, we'll want control groups. We'll use predefined sets of common and nonessential genes, and use these to define control sets of sgRNAs."
   ]
  },
  {
   "cell_type": "code",
   "execution_count": 37,
   "metadata": {},
   "outputs": [],
   "source": [
    "common_essentials = pd.read_csv(\"D:/AllDatabase/depmap/Chronos/chronos/Data/SampleData/AchillesCommonEssentialControls.csv\")[\"Gene\"]\n",
    "nonessentials = pd.read_csv(\"D:/AllDatabase/depmap/Chronos/chronos/Data/SampleData/AchillesNonessentialControls.csv\")[\"Gene\"]"
   ]
  },
  {
   "cell_type": "code",
   "execution_count": 43,
   "metadata": {},
   "outputs": [],
   "source": [
    "common_essentials = pd.read_csv(\"QC_crispr/example_data/essentail_nonessential/AchillesCommonEssentialControls.csv\")[\"Gene\"]\n",
    "nonessentials = pd.read_csv(\"QC_crispr/example_data/essentail_nonessential/AchillesNonessentialControls.csv\")[\"Gene\"]\n",
    "\n",
    "positive_controls = guide_map.sgrna[guide_map.gene.isin(common_essentials)]\n",
    "negative_controls = guide_map.sgrna[guide_map.gene.isin(nonessentials)]"
   ]
  },
  {
   "cell_type": "markdown",
   "metadata": {},
   "source": [
    "以上数据全部准备妥当后，开始进行后续 gene effect分析！"
   ]
  },
  {
   "cell_type": "code",
   "execution_count": 73,
   "metadata": {},
   "outputs": [],
   "source": [
    "tmp=pd.read_csv(\"./Project_02/data/readcounts.csv\",index_col=0)"
   ]
  },
  {
   "cell_type": "code",
   "execution_count": 74,
   "metadata": {},
   "outputs": [
    {
     "data": {
      "text/html": [
       "<div>\n",
       "<style scoped>\n",
       "    .dataframe tbody tr th:only-of-type {\n",
       "        vertical-align: middle;\n",
       "    }\n",
       "\n",
       "    .dataframe tbody tr th {\n",
       "        vertical-align: top;\n",
       "    }\n",
       "\n",
       "    .dataframe thead th {\n",
       "        text-align: right;\n",
       "    }\n",
       "</style>\n",
       "<table border=\"1\" class=\"dataframe\">\n",
       "  <thead>\n",
       "    <tr style=\"text-align: right;\">\n",
       "      <th></th>\n",
       "      <th>sg_SLC36A2_3</th>\n",
       "      <th>sg_PIWIL3_3</th>\n",
       "      <th>sg_FBXO21_2</th>\n",
       "    </tr>\n",
       "  </thead>\n",
       "  <tbody>\n",
       "    <tr>\n",
       "      <th>A375-Base-NTC-1</th>\n",
       "      <td>2107</td>\n",
       "      <td>691</td>\n",
       "      <td>2867</td>\n",
       "    </tr>\n",
       "    <tr>\n",
       "      <th>A375-Base-NTC-2</th>\n",
       "      <td>2075</td>\n",
       "      <td>675</td>\n",
       "      <td>2670</td>\n",
       "    </tr>\n",
       "    <tr>\n",
       "      <th>A375-Base-NTC-3</th>\n",
       "      <td>2019</td>\n",
       "      <td>593</td>\n",
       "      <td>2681</td>\n",
       "    </tr>\n",
       "    <tr>\n",
       "      <th>A375-Base-KAT7-1</th>\n",
       "      <td>2158</td>\n",
       "      <td>611</td>\n",
       "      <td>2662</td>\n",
       "    </tr>\n",
       "  </tbody>\n",
       "</table>\n",
       "</div>"
      ],
      "text/plain": [
       "                  sg_SLC36A2_3  sg_PIWIL3_3  sg_FBXO21_2\n",
       "A375-Base-NTC-1           2107          691         2867\n",
       "A375-Base-NTC-2           2075          675         2670\n",
       "A375-Base-NTC-3           2019          593         2681\n",
       "A375-Base-KAT7-1          2158          611         2662"
      ]
     },
     "execution_count": 74,
     "metadata": {},
     "output_type": "execute_result"
    }
   ],
   "source": [
    "tmp.iloc[:4, :3]"
   ]
  },
  {
   "cell_type": "markdown",
   "metadata": {},
   "source": [
    "### NaNing clonal outgrowths"
   ]
  },
  {
   "cell_type": "markdown",
   "metadata": {},
   "source": [
    "In Achilles, we've observed rare instances where a single guide in a single biological replicate will produce an unexpectedly large number of readcounts, while other guides targeting the same gene or other replicates of the same cell line do not show many readcounts. We suspect this is the result of a single clone gaining some fitness advantage. Although it _could_ be related to a change induced by the guide, in general it's probably misleading. Therefore Chronos has an option to identify and remove these events."
   ]
  },
  {
   "cell_type": "code",
   "execution_count": 60,
   "metadata": {},
   "outputs": [
    {
     "name": "stdout",
     "output_type": "stream",
     "text": [
      "calculating LFC\n",
      "finding maximum LFC calls\n",
      "filtering\n",
      "finding second highest LFC calls\n",
      "finding sequences and guides with outgrowth\n"
     ]
    },
    {
     "name": "stderr",
     "output_type": "stream",
     "text": [
      "D:\\Miniconda3\\envs\\chronos\\Lib\\site-packages\\chronos\\model.py:418: FutureWarning: DataFrame.groupby with axis=1 is deprecated. Do `frame.T.groupby(...)` without axis instead.\n",
      "  max_lfc = lfc.groupby(ggtemp, axis=1).max()\n",
      "D:\\Miniconda3\\envs\\chronos\\Lib\\site-packages\\chronos\\model.py:433: FutureWarning: The 'axis' keyword in DataFrame.groupby is deprecated and will be removed in a future version.\n",
      "  max_row_2nd_column = lfc_filtered.T.groupby(ggtemp, axis=0).agg(second_highest).T\n",
      "D:\\Miniconda3\\envs\\chronos\\Lib\\site-packages\\chronos\\model.py:444: FutureWarning: Downcasting object dtype arrays on .fillna, .ffill, .bfill is deprecated and will change in a future version. Call result.infer_objects(copy=False) instead. To opt-in to the future behavior, set `pd.set_option('future.no_silent_downcasting', True)`\n",
      "  masked = masked.reindex(index=lfc_filtered.index, columns=ggtemp.values).fillna(False)\n",
      "D:\\Miniconda3\\envs\\chronos\\Lib\\site-packages\\chronos\\model.py:449: FutureWarning: Downcasting object dtype arrays on .fillna, .ffill, .bfill is deprecated and will change in a future version. Call result.infer_objects(copy=False) instead. To opt-in to the future behavior, set `pd.set_option('future.no_silent_downcasting', True)`\n",
      "  mask = mask.reindex(index=readcounts.index, columns=readcounts.columns).fillna(False).astype(bool)\n"
     ]
    },
    {
     "name": "stdout",
     "output_type": "stream",
     "text": [
      "NAing 3 readcounts (0.00000 of total)\n"
     ]
    }
   ],
   "source": [
    "chronos.nan_outgrowths(readcounts=readcounts, guide_gene_map=guide_map,\n",
    "                                   sequence_map=sequence_map)"
   ]
  },
  {
   "cell_type": "markdown",
   "metadata": {},
   "source": [
    "### QCing the data"
   ]
  },
  {
   "cell_type": "markdown",
   "metadata": {},
   "source": [
    "You can generate a report with basic QC metrics about your data. You don't have to have control guides to do this, but the report is most useful if you do. If you don't have the `reportlab` python package installed, this section will error and should be skipped. This command will write a pdf report named \"Initial QC.pdf\" in the `./Data/reports` directory."
   ]
  },
  {
   "cell_type": "code",
   "execution_count": 61,
   "metadata": {},
   "outputs": [
    {
     "name": "stderr",
     "output_type": "stream",
     "text": [
      "'rm' 不是内部或外部命令，也不是可运行的程序\n",
      "或批处理文件。\n",
      "子目录或文件 ./Project_02/reports 已经存在。\n"
     ]
    }
   ],
   "source": [
    "reportdir = \"./Project_02/reports\"\n",
    "# permanently deletes the directory - careful if you edit this line!\n",
    "! rm -rf \"./Project_02/reports\"\n",
    "! mkdir \"./Project_02/reports\""
   ]
  },
  {
   "cell_type": "code",
   "execution_count": null,
   "metadata": {},
   "outputs": [],
   "source": [
    "from chronos import reports\n",
    "metrics = reports.qc_initial_data(\"Initial QC\", readcounts, sequence_map,guide_map, \n",
    "        negative_controls, positive_controls,\n",
    "                  directory=reportdir\n",
    "       )"
   ]
  },
  {
   "cell_type": "markdown",
   "metadata": {},
   "source": [
    "Look in the Data/reports directory to see the QC report, \"Initial QC.pdf\"."
   ]
  },
  {
   "cell_type": "markdown",
   "metadata": {},
   "source": [
    "## Train Chronos"
   ]
  },
  {
   "cell_type": "markdown",
   "metadata": {},
   "source": [
    "### Creating the model"
   ]
  },
  {
   "cell_type": "markdown",
   "metadata": {},
   "source": [
    "Now we initialize the model. Note the form of the data: each of the three parameters is actually a dictionary. If we were training the model with data from multiple libraries simultaneously, each library's data would have its own entries in the dict. \n",
    "\n",
    "The `negative_control_sgrnas` is an optional parameter, but including it will allow 1. better removal of library size effects from readcounts, and 2. estimation of the negative binomial quadratic overdispersion parameter per screen, which is otherwise a fixed hyperparameter. If provided, these should be cutting sgRNAs that are strongly expected to have no viability impact.\n",
    "\n",
    "`log_dir` is an optional argument containing a directory for tensorflow to write summaries to. We include it here so that tensorboard can load the model."
   ]
  },
  {
   "cell_type": "code",
   "execution_count": 63,
   "metadata": {},
   "outputs": [
    {
     "name": "stderr",
     "output_type": "stream",
     "text": [
      "'rm' 不是内部或外部命令，也不是可运行的程序\n",
      "或批处理文件。\n",
      "子目录或文件 ./Project_02/logs 已经存在。\n"
     ]
    }
   ],
   "source": [
    "logdir = \"./Project_02/logs\"\n",
    "# permanently deletes the directory - careful if you edit this line!\n",
    "! rm -rf \"./Project_02/logs\"\n",
    "! mkdir \"./Project_02/logs\""
   ]
  },
  {
   "cell_type": "code",
   "execution_count": 64,
   "metadata": {
    "scrolled": true
   },
   "outputs": [
    {
     "name": "stdout",
     "output_type": "stream",
     "text": [
      "normalizing readcounts\n",
      "\n",
      "\n",
      "Finding all unique guides and genes\n",
      "found 71090 unique guides and 18195 unique genes in screen\n",
      "found 71090 unique guides and 18195 unique genes overall\n",
      "\n",
      "finding guide-gene mapping indices\n",
      "\n",
      "finding all unique sequenced replicates, cell lines, and pDNA batches\n",
      "found 12 unique sequences (excluding pDNA) and 4 unique cell lines in screen\n",
      "found 12 unique replicates and 4 unique cell lines overall\n",
      "\n",
      "finding replicate-cell line mappings indices\n",
      "\n",
      "finding replicate-pDNA mappings indices\n",
      "\n",
      "\n",
      "assigning float constants\n",
      "Estimating or aligning variances\n",
      "\tEstimating excess variance (alpha) for screen\n",
      "Between 3 (batch=Index(['screen_0'], dtype='object')) and 4 (batch=Index(['screen_1'], dtype='object')) negative control sgRNAs were found to be systematically over- or under-represented in the screens and excluded.\n",
      "Creating excess variance tensors\n",
      "\tCreated excess variance tensor for screen with shape [12, 1]\n",
      "initializing graph\n",
      "\n",
      "building gene effect mask\n",
      "\n",
      "building doubling vectors\n",
      "made days vector of shape [12, 1] for screen\n",
      "\n",
      "building late observed timepoints\n"
     ]
    },
    {
     "name": "stderr",
     "output_type": "stream",
     "text": [
      "D:\\Miniconda3\\envs\\chronos\\Lib\\site-packages\\chronos\\model.py:1200: FutureWarning: DataFrame.groupby with axis=1 is deprecated. Do `frame.T.groupby(...)` without axis instead.\n",
      "  .groupby(guide_gene_map[key].set_index(\"sgrna\").gene, axis=1)\\\n"
     ]
    },
    {
     "name": "stdout",
     "output_type": "stream",
     "text": [
      "\tbuilt normalized timepoints for screen with shape (12, 71090) (replicates X guides)\n",
      "\n",
      "building t0 reads\n",
      "\n",
      "\n",
      "Building variables\n",
      "\n",
      "building t0 reads estimate\n",
      "made t0 batch with shape (2, 71090) for screen\n",
      "building guide efficacy\n",
      "built guide efficacy: shape [1, 71091]\n",
      "building growth rate\n",
      "built growth rate: shape {'screen': [4, 1]}\n",
      "\n",
      "building cell line efficacy\n",
      "built cell line efficacy: shapes {'screen': [4, 1]}\n",
      "building screen delay\n",
      "built screen delay\n",
      "building gene effect\n",
      "built core gene effect: 4 cell lines by 18195 genes\n",
      "\n",
      "\n",
      "Connecting graph nodes in model\n",
      "\n",
      "building effective days\n",
      "built effective days, shapes {'screen': [12, 18195]}\n",
      "\n",
      "building gene effect growth graph nodes\n",
      "built gene effect growth graph nodes, shapes {'screen': [4, 18195]}\n",
      "\n",
      "building combined efficacy\n",
      "built combined efficacy, shape {'screen': [4, 71090]}\n",
      "built expanded combined efficacy, shapes {'screen': [12, 71090]}\n",
      "\n",
      "building growth estimates of edited cells and overall estimates of fold change in guide abundance\n",
      "built growth and change\n",
      "\n",
      "building unnormalized estimates of final abundance\n",
      "built unnormalized abundance\n",
      "\n",
      "building normalized estimates of final abundance\n",
      "built normalized abundance\n",
      "\n",
      "\n",
      "Building all costs\n",
      "\n",
      "assembling guide efficacy regularization\n",
      "building smoothed regularization\n",
      "\n",
      "building t0 reads regularization/cost\n",
      "\n",
      "building NB2 cost\n",
      "building other regularizations\n",
      "\n",
      "Creating optimizer\n",
      "\tcreating log at ./Project_02/logs\n",
      "initializing variables\n",
      "estimating initial screen efficacy and gene effect\n",
      "\t screen\n"
     ]
    },
    {
     "name": "stderr",
     "output_type": "stream",
     "text": [
      "D:\\Miniconda3\\envs\\chronos\\Lib\\site-packages\\chronos\\model.py:1776: FutureWarning: DataFrame.groupby with axis=1 is deprecated. Do `frame.T.groupby(...)` without axis instead.\n",
      "  .groupby(guide_gene_map.set_index(\"sgrna\").gene, axis=1)\\\n"
     ]
    },
    {
     "name": "stdout",
     "output_type": "stream",
     "text": [
      "\tverifying graph integrity\n",
      "verifying user inputs\n",
      "verifying variables\n",
      "verifying calculated terms\n",
      "\tscreen _gene_effect\n",
      "\tscreen _selected_efficacies\n",
      "\tscreen_predicted_readcounts_unscaled\n",
      "\tscreen _predicted_readcounts\n",
      "\tscreen _normalized_readcounts\n",
      "\tscreen _cost_presum\n",
      "sess run\n",
      "\tscreen _cost\n",
      "\tscreen _full_costs\n",
      "ready to train\n"
     ]
    }
   ],
   "source": [
    "model = chronos.Chronos(\n",
    "    sequence_map={\"screen\": sequence_map},\n",
    "    guide_gene_map={\"screen\": guide_map},\n",
    "    readcounts={\"screen\": readcounts},\n",
    "    negative_control_sgrnas={\"screen\": negative_controls},\n",
    "    log_dir=logdir\n",
    ")"
   ]
  },
  {
   "cell_type": "markdown",
   "metadata": {},
   "source": [
    "If you have tensorboard, the cell below will show Chronos' node structure. `GE` means gene effect (relative change in growth rate), `FC` means predicted fold change, `t0` is the inferred relative guide abundance at t0, and `out_norm` is the predicted readcounts. "
   ]
  },
  {
   "cell_type": "markdown",
   "metadata": {},
   "source": [
    "### Train"
   ]
  },
  {
   "cell_type": "markdown",
   "metadata": {},
   "source": [
    "Below, we train  the model for 301 epochs. This should take a minute or so with periodic updates provided"
   ]
  },
  {
   "cell_type": "code",
   "execution_count": 65,
   "metadata": {
    "scrolled": true
   },
   "outputs": [
    {
     "name": "stdout",
     "output_type": "stream",
     "text": [
      "NB2 cost 0.35722265600351927\n",
      "Full cost 0.3773184136739302\n",
      "relative_growth_rate\n",
      "\tscreen max 1.013, min 0.98135\n",
      "mean guide efficacy 0.9921000511287051\n",
      "t0_offset SD: [('screen', 6.598721251686282e-05)]\n",
      "\n",
      "gene mean -0.10811382861761017\n",
      "SD of gene means 0.3656342792340033\n",
      "Mean of gene SDs 0.10002535882936524\n",
      "\n",
      "\n",
      "\n",
      "51 epochs trained, time taken 0:01:09, projected remaining 0:05:40\n",
      "NB2 cost 0.21808182653369848\n",
      "Full cost 0.24438507310879265\n",
      "relative_growth_rate\n",
      "\tscreen max 1.309, min 0.68164\n",
      "mean guide efficacy 0.9289375897796961\n",
      "t0_offset SD: [('screen', 0.1473284000527602)]\n",
      "\n",
      "gene mean 0.02575289524317006\n",
      "SD of gene means 0.45487560734556265\n",
      "Mean of gene SDs 0.08261509699984836\n",
      "\n",
      "\n",
      "\n",
      "101 epochs trained, time taken 0:02:02, projected remaining 0:04:01\n",
      "NB2 cost 0.1850606645924948\n",
      "Full cost 0.22279747403733857\n",
      "relative_growth_rate\n",
      "\tscreen max 1.367, min 0.64711\n",
      "mean guide efficacy 0.85235846190629\n",
      "t0_offset SD: [('screen', 0.18584178434782142)]\n",
      "\n",
      "gene mean 0.012018554963372858\n",
      "SD of gene means 0.48464956551695026\n",
      "Mean of gene SDs 0.08580546503242306\n",
      "\n",
      "\n",
      "\n",
      "151 epochs trained, time taken 0:03:09, projected remaining 0:03:08\n",
      "NB2 cost 0.1844509148447194\n",
      "Full cost 0.22179927269903377\n",
      "relative_growth_rate\n",
      "\tscreen max 1.367, min 0.64505\n",
      "mean guide efficacy 0.8319622256870862\n",
      "t0_offset SD: [('screen', 0.18420275490535087)]\n",
      "\n",
      "gene mean 0.010970529422926438\n",
      "SD of gene means 0.48915743824294167\n",
      "Mean of gene SDs 0.08695964564821825\n",
      "\n",
      "\n",
      "\n",
      "201 epochs trained, time taken 0:04:16, projected remaining 0:02:07\n",
      "NB2 cost 0.1840207142748866\n",
      "Full cost 0.22112662620696164\n",
      "relative_growth_rate\n",
      "\tscreen max 1.366, min 0.64429\n",
      "mean guide efficacy 0.8195002210651228\n",
      "t0_offset SD: [('screen', 0.18313750439017945)]\n",
      "\n",
      "gene mean 0.01140491842884166\n",
      "SD of gene means 0.491715956303514\n",
      "Mean of gene SDs 0.08761069616013381\n",
      "\n",
      "\n",
      "\n",
      "251 epochs trained, time taken 0:05:24, projected remaining 0:01:05\n",
      "NB2 cost 0.18440901018511324\n",
      "Full cost 0.22145080258190233\n",
      "relative_growth_rate\n",
      "\tscreen max 1.365, min 0.64533\n",
      "mean guide efficacy 0.8118164546357172\n",
      "t0_offset SD: [('screen', 0.1827391159525221)]\n",
      "\n",
      "gene mean 0.011291962961649719\n",
      "SD of gene means 0.4927733130118651\n",
      "Mean of gene SDs 0.08815341908687752\n",
      "\n",
      "\n",
      "\n",
      "301 epochs trained, time taken 0:06:31, projected remaining 0:00:00\n",
      "NB2 cost 0.18426397086652307\n",
      "Full cost 0.22117815987832948\n",
      "relative_growth_rate\n",
      "\tscreen max 1.365, min 0.64446\n",
      "mean guide efficacy 0.8063927349566841\n",
      "t0_offset SD: [('screen', 0.18220419978660596)]\n",
      "\n",
      "gene mean 0.011413590557909565\n",
      "SD of gene means 0.49380562066253797\n",
      "Mean of gene SDs 0.08828222481790461\n",
      "\n",
      "\n",
      "\n"
     ]
    }
   ],
   "source": [
    "model.train(301, report_freq=50, burn_in_period=50, ge_only=0)"
   ]
  },
  {
   "cell_type": "markdown",
   "metadata": {},
   "source": [
    "## After Training"
   ]
  },
  {
   "cell_type": "markdown",
   "metadata": {},
   "source": [
    "### Saving and Restoring"
   ]
  },
  {
   "cell_type": "markdown",
   "metadata": {},
   "source": [
    "Chronos' `save` method dumps all the inputs, outputs, and model parameters to the specified directory. These files are written such that they can be read in individually and analyzed, but also used to restore the model by passing the directory path to the function `load_saved_model`."
   ]
  },
  {
   "cell_type": "code",
   "execution_count": 66,
   "metadata": {},
   "outputs": [],
   "source": [
    "savedir = \"Project_02/Achilles_run\""
   ]
  },
  {
   "cell_type": "code",
   "execution_count": 54,
   "metadata": {},
   "outputs": [],
   "source": [
    "if not os.path.isdir(savedir):\n",
    "    os.mkdir(savedir)"
   ]
  },
  {
   "cell_type": "code",
   "execution_count": 67,
   "metadata": {},
   "outputs": [],
   "source": [
    "model.save(savedir, overwrite=True)"
   ]
  },
  {
   "cell_type": "code",
   "execution_count": 56,
   "metadata": {},
   "outputs": [
    {
     "name": "stdout",
     "output_type": "stream",
     "text": [
      "Saved files:\n",
      "\n",
      "\tavana_guide_gene_map.csv\n",
      "\tavana_negative_control_sgrnas.csv\n",
      "\tavana_predicted_lfc.hdf5\n",
      "\tavana_predicted_readcounts.hdf5\n",
      "\tavana_readcounts.hdf5\n",
      "\tavana_sequence_map.csv\n",
      "\tcell_line_efficacy.csv\n",
      "\tcell_line_growth_rate.csv\n",
      "\tgene_effect.hdf5\n",
      "\tguide_efficacy.csv\n",
      "\tlibrary_effect.csv\n",
      "\tparameters.json\n",
      "\tscreen_delay.csv\n",
      "\tscreen_excess_variance.csv\n",
      "\tt0_offset.csv\n"
     ]
    }
   ],
   "source": [
    "print(\"Saved files:\\n\\n\" + '\\n'.join(['\\t' + s for s in os.listdir(savedir)\n",
    "                if s.endswith(\"csv\")\n",
    "                or s.endswith(\"hdf5\")\n",
    "                or s.endswith(\"json\")\n",
    "                ]))"
   ]
  },
  {
   "cell_type": "markdown",
   "metadata": {},
   "source": [
    "The .hdf5 files are binaries written with chronos' `write_hdf5` function, which is an efficient method for writing large matrices. They can be read with chronos' `read_hdf5` function."
   ]
  },
  {
   "cell_type": "markdown",
   "metadata": {},
   "source": [
    "Restoring the model can be done with a single function call:"
   ]
  },
  {
   "cell_type": "code",
   "execution_count": 22,
   "metadata": {
    "scrolled": true
   },
   "outputs": [
    {
     "name": "stdout",
     "output_type": "stream",
     "text": [
      "\n",
      "\n",
      "Finding all unique guides and genes\n",
      "found 3474 unique guides and 883 unique genes in avana\n",
      "found 3474 unique guides and 883 unique genes overall\n",
      "\n",
      "finding guide-gene mapping indices\n",
      "\n",
      "finding all unique sequenced replicates, cell lines, and pDNA batches\n",
      "found 92 unique sequences (excluding pDNA) and 44 unique cell lines in avana\n",
      "found 92 unique replicates and 44 unique cell lines overall\n",
      "\n",
      "finding replicate-cell line mappings indices\n",
      "\n",
      "finding replicate-pDNA mappings indices\n",
      "\n",
      "\n",
      "assigning float constants\n",
      "Estimating or aligning variances\n",
      "\tEstimating excess variance (alpha) for avana\n",
      "Between 0 (batch=Index(['avana_avana_Avana-2', 'avana_avana_Avana-3', 'avana_avana_Avana-4'], dtype='object')) and 0 (batch=Index(['avana_avana_Avana-2', 'avana_avana_Avana-3', 'avana_avana_Avana-4'], dtype='object')) negative control sgRNAs were found to be systematically over- or under-represented in the screens and excluded.\n",
      "Creating excess variance tensors\n",
      "\tCreated excess variance tensor for avana with shape [92, 1]\n",
      "initializing graph\n",
      "\n",
      "building gene effect mask\n",
      "\n",
      "building doubling vectors\n",
      "made days vector of shape [92, 1] for avana\n",
      "\n",
      "building late observed timepoints\n",
      "\tbuilt normalized timepoints for avana with shape (92, 3474) (replicates X guides)\n",
      "\n",
      "building t0 reads\n",
      "\n",
      "\n",
      "Building variables\n",
      "\n",
      "building t0 reads estimate\n"
     ]
    },
    {
     "name": "stderr",
     "output_type": "stream",
     "text": [
      "D:\\AllDatabase\\depmap\\Chronos\\chronos\\chronos\\model.py:1200: FutureWarning: DataFrame.groupby with axis=1 is deprecated. Do `frame.T.groupby(...)` without axis instead.\n",
      "  .groupby(guide_gene_map[key].set_index(\"sgrna\").gene, axis=1)\\\n"
     ]
    },
    {
     "name": "stdout",
     "output_type": "stream",
     "text": [
      "made t0 batch with shape (3, 3474) for avana\n",
      "building guide efficacy\n",
      "built guide efficacy: shape [1, 3475]\n",
      "building growth rate\n",
      "built growth rate: shape {'avana': [44, 1]}\n",
      "\n",
      "building cell line efficacy\n",
      "built cell line efficacy: shapes {'avana': [44, 1]}\n",
      "building screen delay\n",
      "built screen delay\n",
      "building gene effect\n",
      "built core gene effect: 44 cell lines by 883 genes\n",
      "\n",
      "\n",
      "Connecting graph nodes in model\n",
      "\n",
      "building effective days\n",
      "built effective days, shapes {'avana': [92, 883]}\n",
      "\n",
      "building gene effect growth graph nodes\n",
      "built gene effect growth graph nodes, shapes {'avana': [44, 883]}\n",
      "\n",
      "building combined efficacy\n",
      "built combined efficacy, shape {'avana': [44, 3474]}\n",
      "built expanded combined efficacy, shapes {'avana': [92, 3474]}\n",
      "\n",
      "building growth estimates of edited cells and overall estimates of fold change in guide abundance\n",
      "built growth and change\n",
      "\n",
      "building unnormalized estimates of final abundance\n",
      "built unnormalized abundance\n",
      "\n",
      "building normalized estimates of final abundance\n",
      "built normalized abundance\n",
      "\n",
      "\n",
      "Building all costs\n",
      "\n",
      "assembling guide efficacy regularization\n",
      "building smoothed regularization\n",
      "\n",
      "building t0 reads regularization/cost\n",
      "\n",
      "building NB2 cost\n",
      "building other regularizations\n",
      "\n",
      "Creating optimizer\n",
      "initializing variables\n",
      "\tverifying graph integrity\n",
      "verifying user inputs\n",
      "verifying variables\n",
      "verifying calculated terms\n",
      "\tavana _gene_effect\n",
      "\tavana _selected_efficacies\n",
      "\tavana_predicted_readcounts_unscaled\n",
      "\tavana _predicted_readcounts\n",
      "\tavana _normalized_readcounts\n",
      "\tavana _cost_presum\n",
      "sess run\n",
      "\tavana _cost\n",
      "\tavana _full_costs\n",
      "ready to train\n",
      "assigning trained parameters\n",
      "\tlibrary effect\n",
      "\tgene effect\n",
      "\tguide efficacy\n",
      "\tcell efficacy\n",
      "\tcell growth rate\n",
      "\tscreen excess variance\n",
      "\tscreen delay\n",
      "\tt0 offset\n",
      "Complete.\n",
      "Cost when saved: 0.204888, cost now: 0.204888\n",
      "Full cost when saved: 0.228143, full cost now: 0.228146\n"
     ]
    }
   ],
   "source": [
    "model_restored = chronos.load_saved_model(savedir)"
   ]
  },
  {
   "cell_type": "code",
   "execution_count": 23,
   "metadata": {},
   "outputs": [
    {
     "name": "stdout",
     "output_type": "stream",
     "text": [
      "trained model cost: 0.204888\n",
      "restored model cost: 0.204888\n"
     ]
    }
   ],
   "source": [
    "print(\"trained model cost: %f\\nrestored model cost: %f\" % (model.cost, model_restored.cost))"
   ]
  },
  {
   "cell_type": "markdown",
   "metadata": {},
   "source": [
    "The most important file for most use cases is gene_effect.hdf5, which holds Chronos' estimate of the relative change in growth rate caused by gene knockouts. Negative values indicate inhibitory effects. You can also access the gene effect (and other parameters) from the trained model directly:"
   ]
  },
  {
   "cell_type": "code",
   "execution_count": 68,
   "metadata": {},
   "outputs": [
    {
     "data": {
      "text/html": [
       "<div>\n",
       "<style scoped>\n",
       "    .dataframe tbody tr th:only-of-type {\n",
       "        vertical-align: middle;\n",
       "    }\n",
       "\n",
       "    .dataframe tbody tr th {\n",
       "        vertical-align: top;\n",
       "    }\n",
       "\n",
       "    .dataframe thead th {\n",
       "        text-align: right;\n",
       "    }\n",
       "</style>\n",
       "<table border=\"1\" class=\"dataframe\">\n",
       "  <thead>\n",
       "    <tr style=\"text-align: right;\">\n",
       "      <th>gene</th>\n",
       "      <th>A1BG</th>\n",
       "      <th>A1CF</th>\n",
       "      <th>A2M</th>\n",
       "      <th>A2ML1</th>\n",
       "      <th>A3GALT2</th>\n",
       "    </tr>\n",
       "    <tr>\n",
       "      <th>cell_line_name</th>\n",
       "      <th></th>\n",
       "      <th></th>\n",
       "      <th></th>\n",
       "      <th></th>\n",
       "      <th></th>\n",
       "    </tr>\n",
       "  </thead>\n",
       "  <tbody>\n",
       "    <tr>\n",
       "      <th>A375-D14-KAT7</th>\n",
       "      <td>-0.064130</td>\n",
       "      <td>0.112835</td>\n",
       "      <td>0.222264</td>\n",
       "      <td>0.298991</td>\n",
       "      <td>0.121528</td>\n",
       "    </tr>\n",
       "    <tr>\n",
       "      <th>A375-D14-NTC</th>\n",
       "      <td>-0.253452</td>\n",
       "      <td>0.170818</td>\n",
       "      <td>0.012329</td>\n",
       "      <td>0.255608</td>\n",
       "      <td>0.133031</td>\n",
       "    </tr>\n",
       "    <tr>\n",
       "      <th>A375-D21-KAT7</th>\n",
       "      <td>0.013797</td>\n",
       "      <td>0.073587</td>\n",
       "      <td>0.239886</td>\n",
       "      <td>0.285557</td>\n",
       "      <td>0.166216</td>\n",
       "    </tr>\n",
       "    <tr>\n",
       "      <th>A375-D21-NTC</th>\n",
       "      <td>-0.231048</td>\n",
       "      <td>0.198291</td>\n",
       "      <td>0.047607</td>\n",
       "      <td>0.290062</td>\n",
       "      <td>0.083131</td>\n",
       "    </tr>\n",
       "  </tbody>\n",
       "</table>\n",
       "</div>"
      ],
      "text/plain": [
       "gene                A1BG      A1CF       A2M     A2ML1   A3GALT2\n",
       "cell_line_name                                                  \n",
       "A375-D14-KAT7  -0.064130  0.112835  0.222264  0.298991  0.121528\n",
       "A375-D14-NTC   -0.253452  0.170818  0.012329  0.255608  0.133031\n",
       "A375-D21-KAT7   0.013797  0.073587  0.239886  0.285557  0.166216\n",
       "A375-D21-NTC   -0.231048  0.198291  0.047607  0.290062  0.083131"
      ]
     },
     "execution_count": 68,
     "metadata": {},
     "output_type": "execute_result"
    }
   ],
   "source": [
    "gene_effects = model.gene_effect\n",
    "\n",
    "gene_effects.iloc[:4, :5]"
   ]
  },
  {
   "cell_type": "code",
   "execution_count": 69,
   "metadata": {},
   "outputs": [],
   "source": [
    "gene_effects.to_csv(savedir+\"/gene_effects.csv\")"
   ]
  },
  {
   "cell_type": "code",
   "execution_count": null,
   "metadata": {},
   "outputs": [],
   "source": []
  },
  {
   "cell_type": "code",
   "execution_count": null,
   "metadata": {},
   "outputs": [],
   "source": []
  },
  {
   "cell_type": "markdown",
   "metadata": {
    "jp-MarkdownHeadingCollapsed": true
   },
   "source": [
    "### Copy Number Correction"
   ]
  },
  {
   "cell_type": "markdown",
   "metadata": {},
   "source": [
    "If you have gene-level copy number calls, Chronos includes an option to correct gene effect scores after the fact. This works best if the data has been scaled, as above."
   ]
  },
  {
   "cell_type": "code",
   "execution_count": 25,
   "metadata": {},
   "outputs": [
    {
     "data": {
      "text/html": [
       "<div>\n",
       "<style scoped>\n",
       "    .dataframe tbody tr th:only-of-type {\n",
       "        vertical-align: middle;\n",
       "    }\n",
       "\n",
       "    .dataframe tbody tr th {\n",
       "        vertical-align: top;\n",
       "    }\n",
       "\n",
       "    .dataframe thead th {\n",
       "        text-align: right;\n",
       "    }\n",
       "</style>\n",
       "<table border=\"1\" class=\"dataframe\">\n",
       "  <thead>\n",
       "    <tr style=\"text-align: right;\">\n",
       "      <th></th>\n",
       "      <th>A1CF (29974)</th>\n",
       "      <th>A2M (2)</th>\n",
       "      <th>A2ML1 (144568)</th>\n",
       "    </tr>\n",
       "  </thead>\n",
       "  <tbody>\n",
       "    <tr>\n",
       "      <th>ACH-001636</th>\n",
       "      <td>1.110663</td>\n",
       "      <td>1.047670</td>\n",
       "      <td>1.047670</td>\n",
       "    </tr>\n",
       "    <tr>\n",
       "      <th>ACH-000784</th>\n",
       "      <td>1.193826</td>\n",
       "      <td>1.161938</td>\n",
       "      <td>1.109943</td>\n",
       "    </tr>\n",
       "    <tr>\n",
       "      <th>ACH-000147</th>\n",
       "      <td>1.365585</td>\n",
       "      <td>0.499068</td>\n",
       "      <td>0.499068</td>\n",
       "    </tr>\n",
       "    <tr>\n",
       "      <th>ACH-000657</th>\n",
       "      <td>1.033547</td>\n",
       "      <td>1.040547</td>\n",
       "      <td>1.040547</td>\n",
       "    </tr>\n",
       "  </tbody>\n",
       "</table>\n",
       "</div>"
      ],
      "text/plain": [
       "            A1CF (29974)   A2M (2)  A2ML1 (144568)\n",
       "ACH-001636      1.110663  1.047670        1.047670\n",
       "ACH-000784      1.193826  1.161938        1.109943\n",
       "ACH-000147      1.365585  0.499068        0.499068\n",
       "ACH-000657      1.033547  1.040547        1.040547"
      ]
     },
     "execution_count": 25,
     "metadata": {},
     "output_type": "execute_result"
    }
   ],
   "source": [
    "cn = chronos.read_hdf5(\"Data/SampleData/OmicsCNGene.hdf5\")\n",
    "cn.iloc[:4, :3]"
   ]
  },
  {
   "cell_type": "markdown",
   "metadata": {},
   "source": [
    "Unfortunately, we don't have copy number calls for one of the genes targeted by the Avana library:"
   ]
  },
  {
   "cell_type": "code",
   "execution_count": 28,
   "metadata": {},
   "outputs": [
    {
     "data": {
      "text/plain": [
       "(44, 883)"
      ]
     },
     "execution_count": 28,
     "metadata": {},
     "output_type": "execute_result"
    }
   ],
   "source": [
    "gene_effects.shape"
   ]
  },
  {
   "cell_type": "code",
   "execution_count": 29,
   "metadata": {},
   "outputs": [
    {
     "data": {
      "text/plain": [
       "(58, 898)"
      ]
     },
     "execution_count": 29,
     "metadata": {},
     "output_type": "execute_result"
    }
   ],
   "source": [
    "cn.shape"
   ]
  },
  {
   "cell_type": "code",
   "execution_count": 26,
   "metadata": {},
   "outputs": [
    {
     "name": "stdout",
     "output_type": "stream",
     "text": [
      "Missing 1 genes from gene_effect in copy_number.\n",
      "Examples: ['POU2AF3 (120376)']\n"
     ]
    }
   ],
   "source": [
    "try:\n",
    "    corrected, shifts = chronos.alternate_CN(gene_effects, cn)\n",
    "except ValueError as e:\n",
    "    print(e)"
   ]
  },
  {
   "cell_type": "markdown",
   "metadata": {},
   "source": [
    "We could choose to drop these genes. Instead, we'll assume normal ploidy (=1, in the current CCLE convention) for them and fill in the CN matrix accordingly."
   ]
  },
  {
   "cell_type": "code",
   "execution_count": 30,
   "metadata": {},
   "outputs": [],
   "source": [
    "for col in set(gene_effects.columns) - set(cn.columns):\n",
    "    cn[col] = 1"
   ]
  },
  {
   "cell_type": "code",
   "execution_count": 31,
   "metadata": {},
   "outputs": [
    {
     "name": "stdout",
     "output_type": "stream",
     "text": [
      "\n",
      "Fitting cell line group 1 of 1\n",
      "finding low CN gene effect shifts\n",
      "smoothing and interpolating cutting toxicity for all genes\n",
      "constructed spline matrix of shape 38852, 105\n",
      "\tcost: 0.03961228163435683\n",
      "\tcost: 0.038692256789989436\n",
      "\tcost: 0.038554140427258264\n",
      "\tcost: 0.03847019486896836\n",
      "\tcost: 0.038411667797341044\n",
      "\tcost: 0.03837062317816208\n",
      "generating matrix\n"
     ]
    }
   ],
   "source": [
    "corrected, shifts = chronos.alternate_CN(gene_effects, cn)"
   ]
  },
  {
   "cell_type": "markdown",
   "metadata": {},
   "source": [
    "The `shifts` dataframe contains some information about the inferred CN effect, while `corrected` contains the corrected gene effects matrix. Overall, gene effect matrices will change little after correction, since most genes in most lines are near diploid."
   ]
  },
  {
   "cell_type": "markdown",
   "metadata": {},
   "source": [
    "We'll write the corrected dataframe to the saved directory we made earlier"
   ]
  },
  {
   "cell_type": "code",
   "execution_count": 32,
   "metadata": {},
   "outputs": [],
   "source": [
    "chronos.write_hdf5(corrected, os.path.join(savedir, \"gene_effect_corrected.hdf5\"))"
   ]
  },
  {
   "cell_type": "markdown",
   "metadata": {
    "jp-MarkdownHeadingCollapsed": true
   },
   "source": [
    "### QC report"
   ]
  },
  {
   "cell_type": "markdown",
   "metadata": {},
   "source": [
    "The function `dataset_qc_report` in the `reports` module of Chronos presents a variety of QC metrics and interrogates some specific examples. The report minimally requires a set of positive and negative control genes. To get the full report requires copy number, mutation data, expression data, a list of expression addictions (genes which are dependencies in highly expressing lines), and oncogenic mutations."
   ]
  },
  {
   "cell_type": "markdown",
   "metadata": {},
   "source": [
    "Below, we'll load an annotated DepMap MAF file (subsetted to our cell lines). We'll select gain of function cancer driver events from it and generate a binary mutation matrix. We have a prior belief that cell lines with driver gain of function mutation events will be dependent on the mutated gene, so this matrix will be used by the QC report to assess our ability to identify selective dependencies. Specifically, we expect the oncogenes in this matrix to be dependencies in cell lines where the matrix is `True`, and not otherwise."
   ]
  },
  {
   "cell_type": "code",
   "execution_count": 33,
   "metadata": {},
   "outputs": [],
   "source": [
    "maf = pd.read_csv(\"Data/SampleData/OmicsSomaticMutations.csv\")"
   ]
  },
  {
   "cell_type": "code",
   "execution_count": 34,
   "metadata": {},
   "outputs": [],
   "source": [
    "cancer_relevant = maf[\n",
    "  (\n",
    "      maf.Driver | maf.LikelyDriver  \n",
    "  ) & (\n",
    "      maf.LikelyGoF\n",
    "  )\n",
    "]\n",
    "\n",
    "\n",
    "cancer_relevant = cancer_relevant[~cancer_relevant.duplicated(subset=[\"ModelID\", \"Gene\"])]\n",
    "\n",
    "cancer_relevant['truecol'] = True\n",
    "\n",
    "gof_matrix_base = pd.pivot(cancer_relevant, index=\"ModelID\", columns=\"Gene\", values=\"truecol\")"
   ]
  },
  {
   "cell_type": "markdown",
   "metadata": {},
   "source": [
    "Another way to evaluate selective dependencies is using expression addictions, a common pattern in which a gene is a stronger dependency in lines with higher expression. We'll use a list derived from DepMap RNAi (Tsherniak et al., Cell 2017), and subset our expression matrix to match."
   ]
  },
  {
   "cell_type": "code",
   "execution_count": 35,
   "metadata": {},
   "outputs": [],
   "source": [
    "expression_addictions = pd.read_csv(\"Data/SampleData/RNAiExpressionAddictions.csv\")['Gene']"
   ]
  },
  {
   "cell_type": "code",
   "execution_count": 36,
   "metadata": {},
   "outputs": [],
   "source": [
    "addiction_expressions = chronos.read_hdf5(\"Data/SampleData/OmicsExpressionProteinCodingGenesTPMLogp1.hdf5\")[\n",
    "    expression_addictions\n",
    "]"
   ]
  },
  {
   "cell_type": "markdown",
   "metadata": {},
   "source": [
    "Now, we're ready to run the QC report on Chronos' results:"
   ]
  },
  {
   "cell_type": "code",
   "execution_count": 37,
   "metadata": {
    "scrolled": true
   },
   "outputs": [
    {
     "name": "stdout",
     "output_type": "stream",
     "text": [
      "Loading data from Data/Achilles_run\n",
      "plotting global control separation\n",
      "plotting selective dependency separation\n"
     ]
    },
    {
     "name": "stderr",
     "output_type": "stream",
     "text": [
      "D:\\AllDatabase\\depmap\\Chronos\\chronos\\chronos\\evaluations.py:125: FutureWarning: Downcasting object dtype arrays on .fillna, .ffill, .bfill is deprecated and will change in a future version. Call result.infer_objects(copy=False) instead. To opt-in to the future behavior, set `pd.set_option('future.no_silent_downcasting', True)`\n",
      "  aligned_matrix = base_matrix.reindex(gene_effect.index).fillna(False)\n",
      "D:\\AllDatabase\\depmap\\Chronos\\chronos\\chronos\\evaluations.py:761: FutureWarning: Series.__getitem__ treating keys as positions is deprecated. In a future version, integer keys will always be treated as labels (consistent with DataFrame behavior). To access a value by position, use `ser.iloc[pos]`\n",
      "  texts = [plt.text(s=neg_means.index[i],x=neg_means[i], y=pos_means[i], fontsize=6, color=[.8, .3, .05]) for i in outliers]\n"
     ]
    },
    {
     "ename": "AttributeError",
     "evalue": "FancyArrowPatch.set() got an unexpected keyword argument 'expand_points'",
     "output_type": "error",
     "traceback": [
      "\u001b[1;31m---------------------------------------------------------------------------\u001b[0m",
      "\u001b[1;31mAttributeError\u001b[0m                            Traceback (most recent call last)",
      "Cell \u001b[1;32mIn[37], line 1\u001b[0m\n\u001b[1;32m----> 1\u001b[0m metrics \u001b[38;5;241m=\u001b[39m \u001b[43mreports\u001b[49m\u001b[38;5;241;43m.\u001b[39;49m\u001b[43mdataset_qc_report\u001b[49m\u001b[43m(\u001b[49m\u001b[38;5;124;43m\"\u001b[39;49m\u001b[38;5;124;43mChronosAvana\u001b[39;49m\u001b[38;5;124;43m\"\u001b[39;49m\u001b[43m,\u001b[49m\u001b[43m \u001b[49m\u001b[43msavedir\u001b[49m\u001b[43m,\u001b[49m\u001b[43m \u001b[49m\n\u001b[0;32m      2\u001b[0m \u001b[43m                          \u001b[49m\u001b[43mcommon_essentials\u001b[49m\u001b[43m,\u001b[49m\u001b[43m \u001b[49m\u001b[43mnonessentials\u001b[49m\u001b[43m,\u001b[49m\n\u001b[0;32m      3\u001b[0m \u001b[43m                          \u001b[49m\u001b[43mgof_matrix_base\u001b[49m\u001b[43m,\u001b[49m\u001b[43m \u001b[49m\u001b[43maddiction_expressions\u001b[49m\u001b[43m,\u001b[49m\n\u001b[0;32m      4\u001b[0m \u001b[43m                          \u001b[49m\u001b[43mcn\u001b[49m\u001b[43m,\u001b[49m\u001b[43m \u001b[49m\u001b[43mdirectory\u001b[49m\u001b[38;5;241;43m=\u001b[39;49m\u001b[38;5;124;43m\"\u001b[39;49m\u001b[38;5;124;43mData/reports\u001b[39;49m\u001b[38;5;124;43m\"\u001b[39;49m\u001b[43m,\u001b[49m\n\u001b[0;32m      5\u001b[0m \u001b[43m                          \u001b[49m\u001b[43mgene_effect_file\u001b[49m\u001b[38;5;241;43m=\u001b[39;49m\u001b[38;5;124;43m\"\u001b[39;49m\u001b[38;5;124;43mgene_effect_corrected.hdf5\u001b[39;49m\u001b[38;5;124;43m\"\u001b[39;49m\n\u001b[0;32m      6\u001b[0m \u001b[43m                         \u001b[49m\u001b[43m)\u001b[49m\n",
      "File \u001b[1;32mD:\\AllDatabase\\depmap\\Chronos\\chronos\\chronos\\reports.py:476\u001b[0m, in \u001b[0;36mdataset_qc_report\u001b[1;34m(title, data, positive_control_genes, negative_control_genes, mutation_matrix, addiction_expressions, copy_number, report_name, directory, gene_effect_file, plot_width, plot_height, doc_args)\u001b[0m\n\u001b[0;32m    474\u001b[0m \tplt\u001b[38;5;241m.\u001b[39msca(axes[\u001b[38;5;241m0\u001b[39m])\n\u001b[0;32m    475\u001b[0m \u001b[38;5;28;01mif\u001b[39;00m \u001b[38;5;129;01mnot\u001b[39;00m mutation_matrix \u001b[38;5;129;01mis\u001b[39;00m \u001b[38;5;28;01mNone\u001b[39;00m:\n\u001b[1;32m--> 476\u001b[0m \t\u001b[43mselective_mutated_vs_not_scatter\u001b[49m\u001b[43m(\u001b[49m\u001b[43mdata\u001b[49m\u001b[43m[\u001b[49m\u001b[38;5;124;43m\"\u001b[39;49m\u001b[38;5;124;43mgene_effect\u001b[39;49m\u001b[38;5;124;43m\"\u001b[39;49m\u001b[43m]\u001b[49m\u001b[43m,\u001b[49m\u001b[43m \u001b[49m\u001b[43mmutation_matrix\u001b[49m\u001b[43m,\u001b[49m\u001b[43m \u001b[49m\u001b[43mmetrics\u001b[49m\u001b[38;5;241;43m=\u001b[39;49m\u001b[43mmetrics\u001b[49m\u001b[43m)\u001b[49m\n\u001b[0;32m    477\u001b[0m plt\u001b[38;5;241m.\u001b[39msca(axes[\u001b[38;5;241m1\u001b[39m])\n\u001b[0;32m    478\u001b[0m \u001b[38;5;28;01mif\u001b[39;00m \u001b[38;5;129;01mnot\u001b[39;00m addiction_expressions \u001b[38;5;129;01mis\u001b[39;00m \u001b[38;5;28;01mNone\u001b[39;00m:\n",
      "File \u001b[1;32mD:\\AllDatabase\\depmap\\Chronos\\chronos\\chronos\\evaluations.py:763\u001b[0m, in \u001b[0;36mselective_mutated_vs_not_scatter\u001b[1;34m(gene_effect, mutation_matrix, ax, metrics, legend, legend_args, label_outliers, scatter_args)\u001b[0m\n\u001b[0;32m    761\u001b[0m \ttexts \u001b[38;5;241m=\u001b[39m [plt\u001b[38;5;241m.\u001b[39mtext(s\u001b[38;5;241m=\u001b[39mneg_means\u001b[38;5;241m.\u001b[39mindex[i],x\u001b[38;5;241m=\u001b[39mneg_means[i], y\u001b[38;5;241m=\u001b[39mpos_means[i], fontsize\u001b[38;5;241m=\u001b[39m\u001b[38;5;241m6\u001b[39m, color\u001b[38;5;241m=\u001b[39m[\u001b[38;5;241m.8\u001b[39m, \u001b[38;5;241m.3\u001b[39m, \u001b[38;5;241m.05\u001b[39m]) \u001b[38;5;28;01mfor\u001b[39;00m i \u001b[38;5;129;01min\u001b[39;00m outliers]\n\u001b[0;32m    762\u001b[0m \t\u001b[38;5;28;01mif\u001b[39;00m adjustText_present:\n\u001b[1;32m--> 763\u001b[0m \t\t\u001b[43madjust_text\u001b[49m\u001b[43m(\u001b[49m\u001b[43mtexts\u001b[49m\u001b[43m,\u001b[49m\u001b[43m \u001b[49m\u001b[43mx\u001b[49m\u001b[38;5;241;43m=\u001b[39;49m\u001b[43mneg_means\u001b[49m\u001b[38;5;241;43m.\u001b[39;49m\u001b[43mvalues\u001b[49m\u001b[43m,\u001b[49m\u001b[43m \u001b[49m\u001b[43my\u001b[49m\u001b[38;5;241;43m=\u001b[39;49m\u001b[43mpos_means\u001b[49m\u001b[38;5;241;43m.\u001b[39;49m\u001b[43mvalues\u001b[49m\u001b[43m,\u001b[49m\u001b[43m \u001b[49m\u001b[43marrowprops\u001b[49m\u001b[38;5;241;43m=\u001b[39;49m\u001b[38;5;28;43mdict\u001b[39;49m\u001b[43m(\u001b[49m\u001b[43mlw\u001b[49m\u001b[38;5;241;43m=\u001b[39;49m\u001b[38;5;241;43m1\u001b[39;49m\u001b[43m,\u001b[49m\u001b[43m \u001b[49m\u001b[43marrowstyle\u001b[49m\u001b[38;5;241;43m=\u001b[39;49m\u001b[38;5;124;43m\"\u001b[39;49m\u001b[38;5;124;43m-\u001b[39;49m\u001b[38;5;124;43m\"\u001b[39;49m\u001b[43m,\u001b[49m\u001b[43m \u001b[49m\u001b[43mcolor\u001b[49m\u001b[38;5;241;43m=\u001b[39;49m\u001b[38;5;124;43m\"\u001b[39;49m\u001b[38;5;124;43mblack\u001b[39;49m\u001b[38;5;124;43m\"\u001b[39;49m\u001b[43m)\u001b[49m\u001b[43m,\u001b[49m\n\u001b[0;32m    764\u001b[0m \u001b[43m\t\t\t\u001b[49m\u001b[43mexpand_points\u001b[49m\u001b[38;5;241;43m=\u001b[39;49m\u001b[43m(\u001b[49m\u001b[38;5;241;43m2\u001b[39;49m\u001b[43m,\u001b[49m\u001b[43m \u001b[49m\u001b[38;5;241;43m2.5\u001b[39;49m\u001b[43m)\u001b[49m\u001b[43m)\u001b[49m\n\u001b[0;32m    765\u001b[0m xlim \u001b[38;5;241m=\u001b[39m plt\u001b[38;5;241m.\u001b[39mgca()\u001b[38;5;241m.\u001b[39mget_xlim()\n\u001b[0;32m    766\u001b[0m ylim \u001b[38;5;241m=\u001b[39m plt\u001b[38;5;241m.\u001b[39mgca()\u001b[38;5;241m.\u001b[39mget_ylim()\n",
      "File \u001b[1;32mD:\\Miniconda3\\envs\\chronos\\Lib\\site-packages\\adjustText\\__init__.py:589\u001b[0m, in \u001b[0;36madjust_text\u001b[1;34m(texts, x, y, objects, avoid_self, force_text, force_static, force_pull, force_explode, expand, explode_radius, ensure_inside_axes, expand_axes, only_move, ax, min_arrow_len, time_lim, iter_lim, *args, **kwargs)\u001b[0m\n\u001b[0;32m    586\u001b[0m text\u001b[38;5;241m.\u001b[39mset_position(text_mid)\n\u001b[0;32m    588\u001b[0m \u001b[38;5;28;01mif\u001b[39;00m ap \u001b[38;5;129;01mand\u001b[39;00m display_dists[i] \u001b[38;5;241m>\u001b[39m\u001b[38;5;241m=\u001b[39m min_arrow_len:\n\u001b[1;32m--> 589\u001b[0m     arrowpatch \u001b[38;5;241m=\u001b[39m \u001b[43mFancyArrowPatch\u001b[49m\u001b[43m(\u001b[49m\n\u001b[0;32m    590\u001b[0m \u001b[43m        \u001b[49m\u001b[43mposA\u001b[49m\u001b[38;5;241;43m=\u001b[39;49m\u001b[43mtext_mid\u001b[49m\u001b[43m,\u001b[49m\u001b[43m \u001b[49m\u001b[43mposB\u001b[49m\u001b[38;5;241;43m=\u001b[39;49m\u001b[43mtarget\u001b[49m\u001b[43m,\u001b[49m\u001b[43m \u001b[49m\u001b[43mpatchA\u001b[49m\u001b[38;5;241;43m=\u001b[39;49m\u001b[43mtext\u001b[49m\u001b[43m,\u001b[49m\u001b[43m \u001b[49m\u001b[38;5;241;43m*\u001b[39;49m\u001b[43margs\u001b[49m\u001b[43m,\u001b[49m\u001b[43m \u001b[49m\u001b[38;5;241;43m*\u001b[39;49m\u001b[38;5;241;43m*\u001b[39;49m\u001b[43mkwargs\u001b[49m\u001b[43m,\u001b[49m\u001b[43m \u001b[49m\u001b[38;5;241;43m*\u001b[39;49m\u001b[38;5;241;43m*\u001b[39;49m\u001b[43map\u001b[49m\n\u001b[0;32m    591\u001b[0m \u001b[43m    \u001b[49m\u001b[43m)\u001b[49m\n\u001b[0;32m    592\u001b[0m     ax\u001b[38;5;241m.\u001b[39madd_patch(arrowpatch)\n",
      "File \u001b[1;32mD:\\Miniconda3\\envs\\chronos\\Lib\\site-packages\\matplotlib\\patches.py:4148\u001b[0m, in \u001b[0;36mFancyArrowPatch.__init__\u001b[1;34m(self, posA, posB, path, arrowstyle, connectionstyle, patchA, patchB, shrinkA, shrinkB, mutation_scale, mutation_aspect, **kwargs)\u001b[0m\n\u001b[0;32m   4145\u001b[0m kwargs\u001b[38;5;241m.\u001b[39msetdefault(\u001b[38;5;124m\"\u001b[39m\u001b[38;5;124mjoinstyle\u001b[39m\u001b[38;5;124m\"\u001b[39m, JoinStyle\u001b[38;5;241m.\u001b[39mround)\n\u001b[0;32m   4146\u001b[0m kwargs\u001b[38;5;241m.\u001b[39msetdefault(\u001b[38;5;124m\"\u001b[39m\u001b[38;5;124mcapstyle\u001b[39m\u001b[38;5;124m\"\u001b[39m, CapStyle\u001b[38;5;241m.\u001b[39mround)\n\u001b[1;32m-> 4148\u001b[0m \u001b[38;5;28;43msuper\u001b[39;49m\u001b[43m(\u001b[49m\u001b[43m)\u001b[49m\u001b[38;5;241;43m.\u001b[39;49m\u001b[38;5;21;43m__init__\u001b[39;49m\u001b[43m(\u001b[49m\u001b[38;5;241;43m*\u001b[39;49m\u001b[38;5;241;43m*\u001b[39;49m\u001b[43mkwargs\u001b[49m\u001b[43m)\u001b[49m\n\u001b[0;32m   4150\u001b[0m \u001b[38;5;28;01mif\u001b[39;00m posA \u001b[38;5;129;01mis\u001b[39;00m \u001b[38;5;129;01mnot\u001b[39;00m \u001b[38;5;28;01mNone\u001b[39;00m \u001b[38;5;129;01mand\u001b[39;00m posB \u001b[38;5;129;01mis\u001b[39;00m \u001b[38;5;129;01mnot\u001b[39;00m \u001b[38;5;28;01mNone\u001b[39;00m \u001b[38;5;129;01mand\u001b[39;00m path \u001b[38;5;129;01mis\u001b[39;00m \u001b[38;5;28;01mNone\u001b[39;00m:\n\u001b[0;32m   4151\u001b[0m     \u001b[38;5;28mself\u001b[39m\u001b[38;5;241m.\u001b[39m_posA_posB \u001b[38;5;241m=\u001b[39m [posA, posB]\n",
      "File \u001b[1;32mD:\\Miniconda3\\envs\\chronos\\Lib\\site-packages\\matplotlib\\patches.py:98\u001b[0m, in \u001b[0;36mPatch.__init__\u001b[1;34m(self, edgecolor, facecolor, color, linewidth, linestyle, antialiased, hatch, fill, capstyle, joinstyle, **kwargs)\u001b[0m\n\u001b[0;32m     95\u001b[0m \u001b[38;5;28mself\u001b[39m\u001b[38;5;241m.\u001b[39mset_joinstyle(joinstyle)\n\u001b[0;32m     97\u001b[0m \u001b[38;5;28;01mif\u001b[39;00m \u001b[38;5;28mlen\u001b[39m(kwargs):\n\u001b[1;32m---> 98\u001b[0m     \u001b[38;5;28;43mself\u001b[39;49m\u001b[38;5;241;43m.\u001b[39;49m\u001b[43m_internal_update\u001b[49m\u001b[43m(\u001b[49m\u001b[43mkwargs\u001b[49m\u001b[43m)\u001b[49m\n",
      "File \u001b[1;32mD:\\Miniconda3\\envs\\chronos\\Lib\\site-packages\\matplotlib\\artist.py:1219\u001b[0m, in \u001b[0;36mArtist._internal_update\u001b[1;34m(self, kwargs)\u001b[0m\n\u001b[0;32m   1212\u001b[0m \u001b[38;5;28;01mdef\u001b[39;00m \u001b[38;5;21m_internal_update\u001b[39m(\u001b[38;5;28mself\u001b[39m, kwargs):\n\u001b[0;32m   1213\u001b[0m \u001b[38;5;250m    \u001b[39m\u001b[38;5;124;03m\"\"\"\u001b[39;00m\n\u001b[0;32m   1214\u001b[0m \u001b[38;5;124;03m    Update artist properties without prenormalizing them, but generating\u001b[39;00m\n\u001b[0;32m   1215\u001b[0m \u001b[38;5;124;03m    errors as if calling `set`.\u001b[39;00m\n\u001b[0;32m   1216\u001b[0m \n\u001b[0;32m   1217\u001b[0m \u001b[38;5;124;03m    The lack of prenormalization is to maintain backcompatibility.\u001b[39;00m\n\u001b[0;32m   1218\u001b[0m \u001b[38;5;124;03m    \"\"\"\u001b[39;00m\n\u001b[1;32m-> 1219\u001b[0m     \u001b[38;5;28;01mreturn\u001b[39;00m \u001b[38;5;28;43mself\u001b[39;49m\u001b[38;5;241;43m.\u001b[39;49m\u001b[43m_update_props\u001b[49m\u001b[43m(\u001b[49m\n\u001b[0;32m   1220\u001b[0m \u001b[43m        \u001b[49m\u001b[43mkwargs\u001b[49m\u001b[43m,\u001b[49m\u001b[43m \u001b[49m\u001b[38;5;124;43m\"\u001b[39;49m\u001b[38;5;132;43;01m{cls.__name__}\u001b[39;49;00m\u001b[38;5;124;43m.set() got an unexpected keyword argument \u001b[39;49m\u001b[38;5;124;43m\"\u001b[39;49m\n\u001b[0;32m   1221\u001b[0m \u001b[43m        \u001b[49m\u001b[38;5;124;43m\"\u001b[39;49m\u001b[38;5;132;43;01m{prop_name!r}\u001b[39;49;00m\u001b[38;5;124;43m\"\u001b[39;49m\u001b[43m)\u001b[49m\n",
      "File \u001b[1;32mD:\\Miniconda3\\envs\\chronos\\Lib\\site-packages\\matplotlib\\artist.py:1193\u001b[0m, in \u001b[0;36mArtist._update_props\u001b[1;34m(self, props, errfmt)\u001b[0m\n\u001b[0;32m   1191\u001b[0m             func \u001b[38;5;241m=\u001b[39m \u001b[38;5;28mgetattr\u001b[39m(\u001b[38;5;28mself\u001b[39m, \u001b[38;5;124mf\u001b[39m\u001b[38;5;124m\"\u001b[39m\u001b[38;5;124mset_\u001b[39m\u001b[38;5;132;01m{\u001b[39;00mk\u001b[38;5;132;01m}\u001b[39;00m\u001b[38;5;124m\"\u001b[39m, \u001b[38;5;28;01mNone\u001b[39;00m)\n\u001b[0;32m   1192\u001b[0m             \u001b[38;5;28;01mif\u001b[39;00m \u001b[38;5;129;01mnot\u001b[39;00m \u001b[38;5;28mcallable\u001b[39m(func):\n\u001b[1;32m-> 1193\u001b[0m                 \u001b[38;5;28;01mraise\u001b[39;00m \u001b[38;5;167;01mAttributeError\u001b[39;00m(\n\u001b[0;32m   1194\u001b[0m                     errfmt\u001b[38;5;241m.\u001b[39mformat(\u001b[38;5;28mcls\u001b[39m\u001b[38;5;241m=\u001b[39m\u001b[38;5;28mtype\u001b[39m(\u001b[38;5;28mself\u001b[39m), prop_name\u001b[38;5;241m=\u001b[39mk))\n\u001b[0;32m   1195\u001b[0m             ret\u001b[38;5;241m.\u001b[39mappend(func(v))\n\u001b[0;32m   1196\u001b[0m \u001b[38;5;28;01mif\u001b[39;00m ret:\n",
      "\u001b[1;31mAttributeError\u001b[0m: FancyArrowPatch.set() got an unexpected keyword argument 'expand_points'"
     ]
    },
    {
     "data": {
      "image/png": "[encoded data removed]",
      "text/plain": [
       "<Figure size 1500x650 with 2 Axes>"
      ]
     },
     "metadata": {},
     "output_type": "display_data"
    }
   ],
   "source": [
    "metrics = reports.dataset_qc_report(\"ChronosAvana\", savedir, \n",
    "                          common_essentials, nonessentials,\n",
    "                          gof_matrix_base, addiction_expressions,\n",
    "                          cn, directory=\"Data/reports\",\n",
    "                          gene_effect_file=\"gene_effect_corrected.hdf5\"\n",
    "                         )"
   ]
  },
  {
   "cell_type": "markdown",
   "metadata": {},
   "source": [
    "## Running with multiple libraries"
   ]
  },
  {
   "cell_type": "markdown",
   "metadata": {},
   "source": [
    "We can add Sanger's [Project Score](https://www.nature.com/articles/s41586-019-1103-9) data (screened with the KY library) and run Chronos jointly on it and the Avana data. "
   ]
  },
  {
   "cell_type": "code",
   "execution_count": 6,
   "metadata": {},
   "outputs": [],
   "source": [
    "ky_guide_map = pd.read_csv(\"./Data/SampleData/KYGuideMap.csv\")\n",
    "ky_sequence_map = pd.read_csv(\"./Data/SampleData/KYSequenceMap.csv\")\n",
    "ky_readcounts = chronos.read_hdf5(\"./Data/SampleData/KYReadcounts.hdf5\")"
   ]
  },
  {
   "cell_type": "code",
   "execution_count": 9,
   "metadata": {},
   "outputs": [],
   "source": [
    "ky_positive_controls = ky_guide_map.sgrna[ky_guide_map.gene.isin(common_essentials)]\n",
    "ky_negative_controls = ky_guide_map.sgrna[ky_guide_map.gene.isin(nonessentials)]"
   ]
  },
  {
   "cell_type": "markdown",
   "metadata": {},
   "source": [
    "Note how the call signature of Chronos with multiple libraries is constructed:"
   ]
  },
  {
   "cell_type": "code",
   "execution_count": 10,
   "metadata": {
    "scrolled": true
   },
   "outputs": [
    {
     "name": "stdout",
     "output_type": "stream",
     "text": [
      "normalizing readcounts\n",
      "\n",
      "\n",
      "Finding all unique guides and genes\n",
      "found 3474 unique guides and 883 unique genes in avana\n",
      "found 4084 unique guides and 833 unique genes in ky\n",
      "found 7558 unique guides and 887 unique genes overall\n",
      "\n",
      "finding guide-gene mapping indices\n",
      "\n",
      "finding all unique sequenced replicates, cell lines, and pDNA batches\n",
      "found 92 unique sequences (excluding pDNA) and 44 unique cell lines in avana\n",
      "found 63 unique sequences (excluding pDNA) and 23 unique cell lines in ky\n",
      "found 155 unique replicates and 58 unique cell lines overall\n",
      "\n",
      "finding replicate-cell line mappings indices\n",
      "\n",
      "finding replicate-pDNA mappings indices\n",
      "\n",
      "\n",
      "assigning float constants\n",
      "Estimating or aligning variances\n",
      "\tEstimating excess variance (alpha) for avana\n",
      "Between 0 (batch=Index(['avana_Avana-2', 'avana_Avana-3', 'avana_Avana-4'], dtype='object')) and 0 (batch=Index(['avana_Avana-2', 'avana_Avana-3', 'avana_Avana-4'], dtype='object')) negative control sgRNAs were found to be systematically over- or under-represented in the screens and excluded.\n",
      "\tEstimating excess variance (alpha) for ky\n",
      "Between 4 (batch=Index(['ky_KY-1'], dtype='object')) and 39 (batch=Index(['ky_KY-2'], dtype='object')) negative control sgRNAs were found to be systematically over- or under-represented in the screens and excluded.\n",
      "Creating excess variance tensors\n",
      "\tCreated excess variance tensor for avana with shape [92, 1]\n",
      "\tCreated excess variance tensor for ky with shape [63, 1]\n",
      "initializing graph\n",
      "\n",
      "building gene effect mask\n"
     ]
    },
    {
     "name": "stderr",
     "output_type": "stream",
     "text": [
      "D:\\AllDatabase\\depmap\\Chronos\\chronos\\chronos\\model.py:1200: FutureWarning: DataFrame.groupby with axis=1 is deprecated. Do `frame.T.groupby(...)` without axis instead.\n",
      "  .groupby(guide_gene_map[key].set_index(\"sgrna\").gene, axis=1)\\\n",
      "D:\\AllDatabase\\depmap\\Chronos\\chronos\\chronos\\model.py:1203: FutureWarning: Downcasting object dtype arrays on .fillna, .ffill, .bfill is deprecated and will change in a future version. Call result.infer_objects(copy=False) instead. To opt-in to the future behavior, set `pd.set_option('future.no_silent_downcasting', True)`\n",
      "  .fillna(False)\n",
      "D:\\AllDatabase\\depmap\\Chronos\\chronos\\chronos\\model.py:1200: FutureWarning: DataFrame.groupby with axis=1 is deprecated. Do `frame.T.groupby(...)` without axis instead.\n",
      "  .groupby(guide_gene_map[key].set_index(\"sgrna\").gene, axis=1)\\\n",
      "D:\\AllDatabase\\depmap\\Chronos\\chronos\\chronos\\model.py:1203: FutureWarning: Downcasting object dtype arrays on .fillna, .ffill, .bfill is deprecated and will change in a future version. Call result.infer_objects(copy=False) instead. To opt-in to the future behavior, set `pd.set_option('future.no_silent_downcasting', True)`\n",
      "  .fillna(False)\n"
     ]
    },
    {
     "name": "stdout",
     "output_type": "stream",
     "text": [
      "\n",
      "building doubling vectors\n",
      "made days vector of shape [92, 1] for avana\n",
      "made days vector of shape [63, 1] for ky\n",
      "\n",
      "building late observed timepoints\n",
      "\tbuilt normalized timepoints for avana with shape (92, 3474) (replicates X guides)\n",
      "\tbuilt normalized timepoints for ky with shape (63, 4084) (replicates X guides)\n",
      "\n",
      "building t0 reads\n",
      "\n",
      "\n",
      "Building variables\n",
      "\n",
      "building t0 reads estimate\n",
      "made t0 batch with shape (2, 4084) for avana\n",
      "made t0 batch with shape (2, 4084) for ky\n",
      "building guide efficacy\n",
      "WARNING:tensorflow:From D:\\AllDatabase\\depmap\\Chronos\\chronos\\chronos\\model.py:1398: The name tf.summary.histogram is deprecated. Please use tf.compat.v1.summary.histogram instead.\n",
      "\n",
      "built guide efficacy: shape [1, 7559]\n",
      "building growth rate\n",
      "built growth rate: shape {'avana': [58, 1], 'ky': [58, 1]}\n",
      "\n",
      "building cell line efficacy\n",
      "built cell line efficacy: shapes {'avana': [58, 1], 'ky': [58, 1]}\n",
      "building screen delay\n",
      "built screen delay\n",
      "building gene effect\n",
      "built core gene effect: 58 cell lines by 887 genes\n",
      "\n",
      "\n",
      "Connecting graph nodes in model\n",
      "\n",
      "building effective days\n",
      "built effective days, shapes {'avana': [92, 887], 'ky': [63, 887]}\n",
      "\n",
      "building gene effect growth graph nodes\n",
      "built gene effect growth graph nodes, shapes {'avana': [58, 887], 'ky': [58, 887]}\n",
      "\n",
      "building combined efficacy\n",
      "built combined efficacy, shape {'avana': [58, 3474], 'ky': [58, 4084]}\n",
      "built expanded combined efficacy, shapes {'avana': [92, 3474], 'ky': [63, 4084]}\n",
      "\n",
      "building growth estimates of edited cells and overall estimates of fold change in guide abundance\n",
      "built growth and change\n",
      "\n",
      "building unnormalized estimates of final abundance\n",
      "built unnormalized abundance\n",
      "\n",
      "building normalized estimates of final abundance\n",
      "built normalized abundance\n",
      "\n",
      "\n",
      "Building all costs\n",
      "\n",
      "assembling guide efficacy regularization\n",
      "building smoothed regularization\n",
      "\n",
      "building t0 reads regularization/cost\n",
      "\n",
      "building NB2 cost\n",
      "building other regularizations\n",
      "\n",
      "Creating optimizer\n",
      "WARNING:tensorflow:From D:\\AllDatabase\\depmap\\Chronos\\chronos\\chronos\\model.py:920: The name tf.train.AdamOptimizer is deprecated. Please use tf.compat.v1.train.AdamOptimizer instead.\n",
      "\n",
      "initializing variables\n",
      "estimating initial screen efficacy and gene effect\n",
      "\t avana\n",
      "\t ky\n"
     ]
    },
    {
     "name": "stderr",
     "output_type": "stream",
     "text": [
      "D:\\AllDatabase\\depmap\\Chronos\\chronos\\chronos\\model.py:1776: FutureWarning: DataFrame.groupby with axis=1 is deprecated. Do `frame.T.groupby(...)` without axis instead.\n",
      "  .groupby(guide_gene_map.set_index(\"sgrna\").gene, axis=1)\\\n",
      "D:\\AllDatabase\\depmap\\Chronos\\chronos\\chronos\\model.py:1776: FutureWarning: DataFrame.groupby with axis=1 is deprecated. Do `frame.T.groupby(...)` without axis instead.\n",
      "  .groupby(guide_gene_map.set_index(\"sgrna\").gene, axis=1)\\\n"
     ]
    },
    {
     "name": "stdout",
     "output_type": "stream",
     "text": [
      "\tverifying graph integrity\n",
      "verifying user inputs\n",
      "verifying variables\n",
      "verifying calculated terms\n",
      "\tavana _gene_effect\n",
      "\tavana _selected_efficacies\n",
      "\tavana_predicted_readcounts_unscaled\n",
      "\tavana _predicted_readcounts\n",
      "\tavana _normalized_readcounts\n",
      "\tavana _cost_presum\n",
      "sess run\n",
      "\tavana _cost\n",
      "\tavana _full_costs\n",
      "\tky _gene_effect\n",
      "\tky _selected_efficacies\n",
      "\tky_predicted_readcounts_unscaled\n",
      "\tky _predicted_readcounts\n",
      "\tky _normalized_readcounts\n",
      "\tky _cost_presum\n",
      "sess run\n",
      "\tky _cost\n",
      "\tky _full_costs\n",
      "ready to train\n"
     ]
    }
   ],
   "source": [
    "model2 = chronos.Chronos(\n",
    "    sequence_map={\"avana\": sequence_map, 'ky': ky_sequence_map},\n",
    "    guide_gene_map={\"avana\": guide_map, 'ky': ky_guide_map},\n",
    "    readcounts={\"avana\": readcounts, 'ky': ky_readcounts},\n",
    "    negative_control_sgrnas={\"avana\": negative_controls, \"ky\": ky_negative_controls}\n",
    ")"
   ]
  },
  {
   "cell_type": "code",
   "execution_count": 11,
   "metadata": {
    "scrolled": true
   },
   "outputs": [
    {
     "name": "stdout",
     "output_type": "stream",
     "text": [
      "NB2 cost 0.35361475680124105\n",
      "Full cost 0.4917222763249988\n",
      "relative_growth_rate\n",
      "\tavana max 1.045, min 0.96485\n",
      "\tky max 1.044, min 0.94774\n",
      "mean guide efficacy 0.9920655031759262\n",
      "t0_offset SD: [('avana', 7.050627588270117e-05), ('ky', 7.570223192341395e-05)]\n",
      "\n",
      "gene mean -0.27339406178671705\n",
      "SD of gene means 0.43117127653205517\n",
      "Mean of gene SDs 0.3529388517167343\n",
      "\n",
      "\n",
      "\n",
      "51 epochs trained, time taken 0:00:09, projected remaining 0:00:43\n",
      "NB2 cost 0.24866558560300853\n",
      "Full cost 0.3090075963113838\n",
      "relative_growth_rate\n",
      "\tavana max 1.360, min 0.57175\n",
      "\tky max 1.446, min 0.51292\n",
      "mean guide efficacy 0.9332794359966298\n",
      "t0_offset SD: [('avana', 0.13892146932613245), ('ky', 0.13854381943117977)]\n",
      "\n",
      "gene mean -0.09891669858266534\n",
      "SD of gene means 0.5526316103308444\n",
      "Mean of gene SDs 0.2780052597930531\n",
      "\n",
      "\n",
      "\n",
      "101 epochs trained, time taken 0:00:17, projected remaining 0:00:33\n",
      "NB2 cost 0.23195734011555186\n",
      "Full cost 0.25549300354321536\n",
      "relative_growth_rate\n",
      "\tavana max 1.541, min 0.43887\n",
      "\tky max 1.259, min 0.67917\n",
      "mean guide efficacy 0.874775280715349\n",
      "t0_offset SD: [('avana', 0.13099301857697443), ('ky', 0.11921801869049137)]\n",
      "\n",
      "gene mean -0.0110939993774818\n",
      "SD of gene means 0.6287842929268396\n",
      "Mean of gene SDs 0.21578686519960386\n",
      "\n",
      "\n",
      "\n",
      "151 epochs trained, time taken 0:00:25, projected remaining 0:00:25\n",
      "NB2 cost 0.23067295099225318\n",
      "Full cost 0.2527767439041588\n",
      "relative_growth_rate\n",
      "\tavana max 1.515, min 0.45048\n",
      "\tky max 1.390, min 0.67319\n",
      "mean guide efficacy 0.871397061886555\n",
      "t0_offset SD: [('avana', 0.13048453054086326), ('ky', 0.11644529096587482)]\n",
      "\n",
      "gene mean -0.007406031398927516\n",
      "SD of gene means 0.6288307861097207\n",
      "Mean of gene SDs 0.20125898392933508\n",
      "\n",
      "\n",
      "\n",
      "201 epochs trained, time taken 0:00:33, projected remaining 0:00:16\n",
      "NB2 cost 0.2304360668541193\n",
      "Full cost 0.2520316008931054\n",
      "relative_growth_rate\n",
      "\tavana max 1.532, min 0.45284\n",
      "\tky max 1.419, min 0.69318\n",
      "mean guide efficacy 0.8667133847930489\n",
      "t0_offset SD: [('avana', 0.12965331138180816), ('ky', 0.1145531999530032)]\n",
      "\n",
      "gene mean -0.004914655617562602\n",
      "SD of gene means 0.630992356537345\n",
      "Mean of gene SDs 0.196727353182823\n",
      "\n",
      "\n",
      "\n",
      "251 epochs trained, time taken 0:00:41, projected remaining 0:00:08\n",
      "NB2 cost 0.23062249489917824\n",
      "Full cost 0.252065814065873\n",
      "relative_growth_rate\n",
      "\tavana max 1.525, min 0.45727\n",
      "\tky max 1.418, min 0.67983\n",
      "mean guide efficacy 0.8636343475118762\n",
      "t0_offset SD: [('avana', 0.12876961284931734), ('ky', 0.11463316383252302)]\n",
      "\n",
      "gene mean -0.004131153058338114\n",
      "SD of gene means 0.6303849584128741\n",
      "Mean of gene SDs 0.19475791442291074\n",
      "\n",
      "\n",
      "\n",
      "301 epochs trained, time taken 0:00:49, projected remaining 0:00:00\n",
      "NB2 cost 0.23015650951231406\n",
      "Full cost 0.25132555020205505\n",
      "relative_growth_rate\n",
      "\tavana max 1.524, min 0.45485\n",
      "\tky max 1.418, min 0.67199\n",
      "mean guide efficacy 0.8622532882959401\n",
      "t0_offset SD: [('avana', 0.12775623506579417), ('ky', 0.11302501779341953)]\n",
      "\n",
      "gene mean -0.00484005547807815\n",
      "SD of gene means 0.632078245029655\n",
      "Mean of gene SDs 0.19494019260333284\n",
      "\n",
      "\n",
      "\n"
     ]
    }
   ],
   "source": [
    "model2.train(301)"
   ]
  },
  {
   "cell_type": "markdown",
   "metadata": {},
   "source": [
    "Note that the gene effect now has NAs. These are cases where a cell line was only screened in one library and that library had no guides for that gene."
   ]
  },
  {
   "cell_type": "markdown",
   "metadata": {},
   "source": [
    "Chronos infers library batch effects. Note that these are only inferred for genes present in all libraries"
   ]
  },
  {
   "cell_type": "code",
   "execution_count": 12,
   "metadata": {},
   "outputs": [
    {
     "data": {
      "text/html": [
       "<div>\n",
       "<style scoped>\n",
       "    .dataframe tbody tr th:only-of-type {\n",
       "        vertical-align: middle;\n",
       "    }\n",
       "\n",
       "    .dataframe tbody tr th {\n",
       "        vertical-align: top;\n",
       "    }\n",
       "\n",
       "    .dataframe thead th {\n",
       "        text-align: right;\n",
       "    }\n",
       "</style>\n",
       "<table border=\"1\" class=\"dataframe\">\n",
       "  <thead>\n",
       "    <tr style=\"text-align: right;\">\n",
       "      <th>library</th>\n",
       "      <th>avana</th>\n",
       "      <th>ky</th>\n",
       "    </tr>\n",
       "    <tr>\n",
       "      <th>gene</th>\n",
       "      <th></th>\n",
       "      <th></th>\n",
       "    </tr>\n",
       "  </thead>\n",
       "  <tbody>\n",
       "    <tr>\n",
       "      <th>A1CF (29974)</th>\n",
       "      <td>-0.131074</td>\n",
       "      <td>0.105497</td>\n",
       "    </tr>\n",
       "    <tr>\n",
       "      <th>A2M (2)</th>\n",
       "      <td>-0.275337</td>\n",
       "      <td>0.221607</td>\n",
       "    </tr>\n",
       "    <tr>\n",
       "      <th>A2ML1 (144568)</th>\n",
       "      <td>-0.219256</td>\n",
       "      <td>0.176470</td>\n",
       "    </tr>\n",
       "    <tr>\n",
       "      <th>A3GALT2 (127550)</th>\n",
       "      <td>-0.053114</td>\n",
       "      <td>0.042749</td>\n",
       "    </tr>\n",
       "    <tr>\n",
       "      <th>A4GALT (53947)</th>\n",
       "      <td>-0.128074</td>\n",
       "      <td>0.103081</td>\n",
       "    </tr>\n",
       "    <tr>\n",
       "      <th>...</th>\n",
       "      <td>...</td>\n",
       "      <td>...</td>\n",
       "    </tr>\n",
       "    <tr>\n",
       "      <th>ZNF622 (90441)</th>\n",
       "      <td>-0.197585</td>\n",
       "      <td>0.159029</td>\n",
       "    </tr>\n",
       "    <tr>\n",
       "      <th>ZNF648 (127665)</th>\n",
       "      <td>-0.152026</td>\n",
       "      <td>0.122359</td>\n",
       "    </tr>\n",
       "    <tr>\n",
       "      <th>ZNF804B (219578)</th>\n",
       "      <td>-0.223024</td>\n",
       "      <td>0.179503</td>\n",
       "    </tr>\n",
       "    <tr>\n",
       "      <th>ZP2 (7783)</th>\n",
       "      <td>-0.185414</td>\n",
       "      <td>0.149233</td>\n",
       "    </tr>\n",
       "    <tr>\n",
       "      <th>ZSWIM2 (151112)</th>\n",
       "      <td>-0.223263</td>\n",
       "      <td>0.179696</td>\n",
       "    </tr>\n",
       "  </tbody>\n",
       "</table>\n",
       "<p>887 rows × 2 columns</p>\n",
       "</div>"
      ],
      "text/plain": [
       "library              avana        ky\n",
       "gene                                \n",
       "A1CF (29974)     -0.131074  0.105497\n",
       "A2M (2)          -0.275337  0.221607\n",
       "A2ML1 (144568)   -0.219256  0.176470\n",
       "A3GALT2 (127550) -0.053114  0.042749\n",
       "A4GALT (53947)   -0.128074  0.103081\n",
       "...                    ...       ...\n",
       "ZNF622 (90441)   -0.197585  0.159029\n",
       "ZNF648 (127665)  -0.152026  0.122359\n",
       "ZNF804B (219578) -0.223024  0.179503\n",
       "ZP2 (7783)       -0.185414  0.149233\n",
       "ZSWIM2 (151112)  -0.223263  0.179696\n",
       "\n",
       "[887 rows x 2 columns]"
      ]
     },
     "execution_count": 12,
     "metadata": {},
     "output_type": "execute_result"
    }
   ],
   "source": [
    "model2.library_effect"
   ]
  },
  {
   "cell_type": "code",
   "execution_count": 14,
   "metadata": {},
   "outputs": [
    {
     "data": {
      "text/html": [
       "<div>\n",
       "<style scoped>\n",
       "    .dataframe tbody tr th:only-of-type {\n",
       "        vertical-align: middle;\n",
       "    }\n",
       "\n",
       "    .dataframe tbody tr th {\n",
       "        vertical-align: top;\n",
       "    }\n",
       "\n",
       "    .dataframe thead th {\n",
       "        text-align: right;\n",
       "    }\n",
       "</style>\n",
       "<table border=\"1\" class=\"dataframe\">\n",
       "  <thead>\n",
       "    <tr style=\"text-align: right;\">\n",
       "      <th>gene</th>\n",
       "      <th>A1CF (29974)</th>\n",
       "      <th>A2M (2)</th>\n",
       "      <th>A2ML1 (144568)</th>\n",
       "      <th>A3GALT2 (127550)</th>\n",
       "      <th>A4GALT (53947)</th>\n",
       "      <th>A4GNT (51146)</th>\n",
       "      <th>AAAS (8086)</th>\n",
       "      <th>AACS (65985)</th>\n",
       "      <th>AADAC (13)</th>\n",
       "      <th>AADACL2 (344752)</th>\n",
       "      <th>...</th>\n",
       "      <th>ZFP36L1 (677)</th>\n",
       "      <th>ZG16 (653808)</th>\n",
       "      <th>ZMAT2 (153527)</th>\n",
       "      <th>ZNF207 (7756)</th>\n",
       "      <th>ZNF48 (197407)</th>\n",
       "      <th>ZNF622 (90441)</th>\n",
       "      <th>ZNF648 (127665)</th>\n",
       "      <th>ZNF804B (219578)</th>\n",
       "      <th>ZP2 (7783)</th>\n",
       "      <th>ZSWIM2 (151112)</th>\n",
       "    </tr>\n",
       "    <tr>\n",
       "      <th>cell_line_name</th>\n",
       "      <th></th>\n",
       "      <th></th>\n",
       "      <th></th>\n",
       "      <th></th>\n",
       "      <th></th>\n",
       "      <th></th>\n",
       "      <th></th>\n",
       "      <th></th>\n",
       "      <th></th>\n",
       "      <th></th>\n",
       "      <th></th>\n",
       "      <th></th>\n",
       "      <th></th>\n",
       "      <th></th>\n",
       "      <th></th>\n",
       "      <th></th>\n",
       "      <th></th>\n",
       "      <th></th>\n",
       "      <th></th>\n",
       "      <th></th>\n",
       "      <th></th>\n",
       "    </tr>\n",
       "  </thead>\n",
       "  <tbody>\n",
       "    <tr>\n",
       "      <th>ACH-000004</th>\n",
       "      <td>0.394265</td>\n",
       "      <td>0.270410</td>\n",
       "      <td>0.382605</td>\n",
       "      <td>0.335398</td>\n",
       "      <td>0.248460</td>\n",
       "      <td>0.675958</td>\n",
       "      <td>0.275590</td>\n",
       "      <td>0.618237</td>\n",
       "      <td>0.620192</td>\n",
       "      <td>0.372236</td>\n",
       "      <td>...</td>\n",
       "      <td>0.338218</td>\n",
       "      <td>0.440582</td>\n",
       "      <td>-1.408095</td>\n",
       "      <td>-0.935909</td>\n",
       "      <td>0.387483</td>\n",
       "      <td>0.192241</td>\n",
       "      <td>0.220976</td>\n",
       "      <td>0.424845</td>\n",
       "      <td>0.489797</td>\n",
       "      <td>0.629683</td>\n",
       "    </tr>\n",
       "    <tr>\n",
       "      <th>ACH-000074</th>\n",
       "      <td>0.380960</td>\n",
       "      <td>0.648621</td>\n",
       "      <td>0.756778</td>\n",
       "      <td>0.300992</td>\n",
       "      <td>0.343178</td>\n",
       "      <td>0.616668</td>\n",
       "      <td>0.662109</td>\n",
       "      <td>0.563376</td>\n",
       "      <td>0.614896</td>\n",
       "      <td>0.493008</td>\n",
       "      <td>...</td>\n",
       "      <td>0.215490</td>\n",
       "      <td>0.734086</td>\n",
       "      <td>-1.082159</td>\n",
       "      <td>-0.523650</td>\n",
       "      <td>0.502956</td>\n",
       "      <td>0.214192</td>\n",
       "      <td>0.433352</td>\n",
       "      <td>0.380885</td>\n",
       "      <td>0.424405</td>\n",
       "      <td>1.210500</td>\n",
       "    </tr>\n",
       "    <tr>\n",
       "      <th>ACH-000147</th>\n",
       "      <td>0.409097</td>\n",
       "      <td>0.489411</td>\n",
       "      <td>0.545690</td>\n",
       "      <td>0.093653</td>\n",
       "      <td>0.429734</td>\n",
       "      <td>0.520911</td>\n",
       "      <td>0.113429</td>\n",
       "      <td>0.448858</td>\n",
       "      <td>0.587061</td>\n",
       "      <td>0.359995</td>\n",
       "      <td>...</td>\n",
       "      <td>0.343936</td>\n",
       "      <td>0.470957</td>\n",
       "      <td>-1.108628</td>\n",
       "      <td>-0.718659</td>\n",
       "      <td>0.406244</td>\n",
       "      <td>0.366363</td>\n",
       "      <td>0.343674</td>\n",
       "      <td>0.468244</td>\n",
       "      <td>0.495879</td>\n",
       "      <td>0.524347</td>\n",
       "    </tr>\n",
       "    <tr>\n",
       "      <th>ACH-000149</th>\n",
       "      <td>0.653138</td>\n",
       "      <td>0.505769</td>\n",
       "      <td>0.384833</td>\n",
       "      <td>0.224746</td>\n",
       "      <td>0.401323</td>\n",
       "      <td>0.471192</td>\n",
       "      <td>0.262684</td>\n",
       "      <td>0.443614</td>\n",
       "      <td>0.743491</td>\n",
       "      <td>0.357139</td>\n",
       "      <td>...</td>\n",
       "      <td>0.291560</td>\n",
       "      <td>0.490942</td>\n",
       "      <td>-0.971483</td>\n",
       "      <td>-0.590033</td>\n",
       "      <td>0.146912</td>\n",
       "      <td>-0.099377</td>\n",
       "      <td>0.123623</td>\n",
       "      <td>0.336375</td>\n",
       "      <td>0.336885</td>\n",
       "      <td>0.535194</td>\n",
       "    </tr>\n",
       "    <tr>\n",
       "      <th>ACH-000168</th>\n",
       "      <td>0.396901</td>\n",
       "      <td>0.553080</td>\n",
       "      <td>0.651399</td>\n",
       "      <td>0.301351</td>\n",
       "      <td>0.370373</td>\n",
       "      <td>0.256483</td>\n",
       "      <td>0.144081</td>\n",
       "      <td>0.301891</td>\n",
       "      <td>0.330681</td>\n",
       "      <td>0.517162</td>\n",
       "      <td>...</td>\n",
       "      <td>0.291742</td>\n",
       "      <td>0.217815</td>\n",
       "      <td>-0.891559</td>\n",
       "      <td>-0.568605</td>\n",
       "      <td>0.483745</td>\n",
       "      <td>-0.056047</td>\n",
       "      <td>0.295632</td>\n",
       "      <td>0.291499</td>\n",
       "      <td>0.497072</td>\n",
       "      <td>0.693636</td>\n",
       "    </tr>\n",
       "  </tbody>\n",
       "</table>\n",
       "<p>5 rows × 887 columns</p>\n",
       "</div>"
      ],
      "text/plain": [
       "gene            A1CF (29974)   A2M (2)  A2ML1 (144568)  A3GALT2 (127550)  \\\n",
       "cell_line_name                                                             \n",
       "ACH-000004          0.394265  0.270410        0.382605          0.335398   \n",
       "ACH-000074          0.380960  0.648621        0.756778          0.300992   \n",
       "ACH-000147          0.409097  0.489411        0.545690          0.093653   \n",
       "ACH-000149          0.653138  0.505769        0.384833          0.224746   \n",
       "ACH-000168          0.396901  0.553080        0.651399          0.301351   \n",
       "\n",
       "gene            A4GALT (53947)  A4GNT (51146)  AAAS (8086)  AACS (65985)  \\\n",
       "cell_line_name                                                             \n",
       "ACH-000004            0.248460       0.675958     0.275590      0.618237   \n",
       "ACH-000074            0.343178       0.616668     0.662109      0.563376   \n",
       "ACH-000147            0.429734       0.520911     0.113429      0.448858   \n",
       "ACH-000149            0.401323       0.471192     0.262684      0.443614   \n",
       "ACH-000168            0.370373       0.256483     0.144081      0.301891   \n",
       "\n",
       "gene            AADAC (13)  AADACL2 (344752)  ...  ZFP36L1 (677)  \\\n",
       "cell_line_name                                ...                  \n",
       "ACH-000004        0.620192          0.372236  ...       0.338218   \n",
       "ACH-000074        0.614896          0.493008  ...       0.215490   \n",
       "ACH-000147        0.587061          0.359995  ...       0.343936   \n",
       "ACH-000149        0.743491          0.357139  ...       0.291560   \n",
       "ACH-000168        0.330681          0.517162  ...       0.291742   \n",
       "\n",
       "gene            ZG16 (653808)  ZMAT2 (153527)  ZNF207 (7756)  ZNF48 (197407)  \\\n",
       "cell_line_name                                                                 \n",
       "ACH-000004           0.440582       -1.408095      -0.935909        0.387483   \n",
       "ACH-000074           0.734086       -1.082159      -0.523650        0.502956   \n",
       "ACH-000147           0.470957       -1.108628      -0.718659        0.406244   \n",
       "ACH-000149           0.490942       -0.971483      -0.590033        0.146912   \n",
       "ACH-000168           0.217815       -0.891559      -0.568605        0.483745   \n",
       "\n",
       "gene            ZNF622 (90441)  ZNF648 (127665)  ZNF804B (219578)  ZP2 (7783)  \\\n",
       "cell_line_name                                                                  \n",
       "ACH-000004            0.192241         0.220976          0.424845    0.489797   \n",
       "ACH-000074            0.214192         0.433352          0.380885    0.424405   \n",
       "ACH-000147            0.366363         0.343674          0.468244    0.495879   \n",
       "ACH-000149           -0.099377         0.123623          0.336375    0.336885   \n",
       "ACH-000168           -0.056047         0.295632          0.291499    0.497072   \n",
       "\n",
       "gene            ZSWIM2 (151112)  \n",
       "cell_line_name                   \n",
       "ACH-000004             0.629683  \n",
       "ACH-000074             1.210500  \n",
       "ACH-000147             0.524347  \n",
       "ACH-000149             0.535194  \n",
       "ACH-000168             0.693636  \n",
       "\n",
       "[5 rows x 887 columns]"
      ]
     },
     "execution_count": 14,
     "metadata": {},
     "output_type": "execute_result"
    }
   ],
   "source": [
    "gene_effects=model2.gene_effect\n",
    "gene_effects.head()"
   ]
  },
  {
   "cell_type": "code",
   "execution_count": 15,
   "metadata": {},
   "outputs": [
    {
     "data": {
      "text/plain": [
       "(58, 887)"
      ]
     },
     "execution_count": 15,
     "metadata": {},
     "output_type": "execute_result"
    }
   ],
   "source": [
    "gene_effects.shape"
   ]
  },
  {
   "cell_type": "markdown",
   "metadata": {},
   "source": [
    "## Running your screen with pretrained DepMap parameters"
   ]
  },
  {
   "cell_type": "markdown",
   "metadata": {},
   "source": [
    "If you conducted a screen in one of the DepMap integrated libraries (currently Avana, KY, or Humagne-CD), you can load parameters from the trained DepMap model and use them to process your specific screen. This gives you many of the benefits of coprocessing your screen with the complete DepMap dataset without the computational expense. "
   ]
  },
  {
   "cell_type": "markdown",
   "metadata": {},
   "source": [
    "The following command fetches the 22Q3 public dataset from Figshare and stores it in the Chronos package directory under Data/DepMapParameters"
   ]
  },
  {
   "cell_type": "code",
   "execution_count": null,
   "metadata": {},
   "outputs": [],
   "source": [
    "chronos.fetch_parameters()"
   ]
  },
  {
   "cell_type": "markdown",
   "metadata": {},
   "source": [
    "First, we create a model with the data we want to train as before, but with two important details:\n",
    "- we pass the argument `pretrained=True` when we initialize\n",
    "- the library batch names must match the DepMap library batch names, as that's what we're using for the pretrained model"
   ]
  },
  {
   "cell_type": "code",
   "execution_count": null,
   "metadata": {
    "scrolled": true
   },
   "outputs": [],
   "source": [
    "model2_pretrained = chronos.Chronos(\n",
    "    sequence_map={\"Achilles-Avana-2D\": sequence_map, 'Achilles-KY-2D': ky_sequence_map},\n",
    "    guide_gene_map={\"Achilles-Avana-2D\": guide_map, 'Achilles-KY-2D': ky_guide_map},\n",
    "    readcounts={\"Achilles-Avana-2D\": readcounts, 'Achilles-KY-2D': ky_readcounts},\n",
    "    negative_control_sgrnas={\"Achilles-Avana-2D\": negative_controls, \"Achilles-KY-2D\": ky_negative_controls},\n",
    "    pretrained=True\n",
    ")"
   ]
  },
  {
   "cell_type": "markdown",
   "metadata": {},
   "source": [
    "Now we import the DepMap data from the directory into the model, and train:"
   ]
  },
  {
   "cell_type": "code",
   "execution_count": null,
   "metadata": {},
   "outputs": [],
   "source": [
    "model2_pretrained.import_model(\"./Data/DepMapParameters/\")"
   ]
  },
  {
   "cell_type": "code",
   "execution_count": null,
   "metadata": {
    "scrolled": true
   },
   "outputs": [],
   "source": [
    "model2_pretrained.train()"
   ]
  },
  {
   "cell_type": "code",
   "execution_count": null,
   "metadata": {},
   "outputs": [],
   "source": []
  },
  {
   "cell_type": "markdown",
   "metadata": {},
   "source": [
    "## python通过yaml文件获取配置信息"
   ]
  },
  {
   "cell_type": "code",
   "execution_count": 20,
   "metadata": {},
   "outputs": [
    {
     "name": "stdout",
     "output_type": "stream",
     "text": [
      "{'sequence_map': 'Data/SampleData/AvanaSequenceMap.csv', 'guide_map': 'Data/SampleData/AvanaGuideMap.csv', 'readcounts': 'Data/SampleData/AvanaReadcounts.hdf5', 'common_essentials': 'Data/SampleData/AchillesCommonEssentialControls.csv', 'nonessentials': 'Data/SampleData/AchillesNonessentialControls.csv'}\n"
     ]
    }
   ],
   "source": [
    "import yaml\n",
    "# 打开YAML文件\n",
    "with open('data.yaml', 'r') as file:\n",
    "    # 加载YAML内容到字典对象\n",
    "    data = yaml.safe_load(file)\n",
    "    \n",
    "print(data)"
   ]
  },
  {
   "cell_type": "code",
   "execution_count": 21,
   "metadata": {},
   "outputs": [
    {
     "data": {
      "text/plain": [
       "'Data/SampleData/AvanaSequenceMap.csv'"
      ]
     },
     "execution_count": 21,
     "metadata": {},
     "output_type": "execute_result"
    }
   ],
   "source": [
    "data['sequence_map']"
   ]
  },
  {
   "cell_type": "code",
   "execution_count": 24,
   "metadata": {},
   "outputs": [],
   "source": [
    "import os\n",
    "os.makedirs('./test/QC')"
   ]
  },
  {
   "cell_type": "markdown",
   "metadata": {},
   "source": [
    "## 总结\n",
    "\n",
    "1. 输入3个文件：sequence_map, guide_map, read_counts，\n",
    "2. 2个essential文件：common_essential, nonessential\n",
    "3. 建模，training，分析和保存结果\n",
    "4. 对结果进一步可视化分析"
   ]
  },
  {
   "cell_type": "markdown",
   "metadata": {},
   "source": [
    "```\n",
    "#会在当前目录下找data.yaml，提前配置好 data.yaml 文件\n",
    "python chronos_v1.py\n",
    "```"
   ]
  },
  {
   "cell_type": "markdown",
   "metadata": {},
   "source": [
    "## 与Mageck结果比较\n",
    "\n",
    "主要参考： `chronos_vs_mageck.R`\n",
    "\n",
    "\n",
    "mageck 分析特别简单，先使用conda安装mageck，然后使用MLE, RRA进行分组分析;\n",
    "\n",
    "#https://sourceforge.net/p/mageck/wiki/advanced_tutorial/\n",
    "\n",
    "+ mle\n",
    "\n",
    "```\n",
    "mageck mle -k GSE126486_sgRNA.txt -d design_matrix -n test\n",
    "\n",
    "#design matrix: 行是样本名，列是分组\n",
    "```\n",
    "\n",
    "+ RRA\n",
    "\n",
    "```\n",
    "mageck test -k sample.txt -t HL60.final,KBM7.final -c HL60.initial,KBM7.initial  -n demo\n",
    "```"
   ]
  },
  {
   "cell_type": "code",
   "execution_count": null,
   "metadata": {},
   "outputs": [],
   "source": [
    "#比较mageck rra  和 chronos的分析结果\n",
    "#mageck rra的分析结果在这里，一共四组：\n",
    "#D:\\CRISPR\\QC_crispr\\example_data\\RRA\n",
    "\n",
    "#chronos的分析结果在这里，也是四组：\n",
    "#D:\\CRISPR\\Project_02\\Achilles_run\n",
    "\n",
    "library(data.table)\n",
    "library(dplyr)\n",
    "library(ggplot2)"
   ]
  },
  {
   "cell_type": "markdown",
   "metadata": {},
   "source": [
    "### Chronos分析结果"
   ]
  },
  {
   "cell_type": "markdown",
   "metadata": {},
   "source": [
    "#### gene effect 分布密度图"
   ]
  },
  {
   "cell_type": "code",
   "execution_count": null,
   "metadata": {},
   "outputs": [],
   "source": [
    "chronos_gene_effect<-fread(\"Project_02/Achilles_run/gene_effects.csv\")\n",
    "#wide2long\n",
    "p1=chronos_gene_effect %>% \n",
    "  tidyr::pivot_longer(c(2:ncol(.)),names_to = 'Gene',values_to = 'Effect') %>% \n",
    "  ggplot(aes(Effect,colour=cell_line_name))+\n",
    "  stat_density(geom='line',position = 'identity')+\n",
    "  labs(title=\"Chronos\")+\n",
    "  theme_bw(\n",
    "    base_size = 15\n",
    "  )+\n",
    "  theme(\n",
    "    legend.position =  c(0.2,0.8),\n",
    "    legend.background = element_blank()\n",
    "  )"
   ]
  },
  {
   "cell_type": "markdown",
   "metadata": {},
   "source": [
    "#### 不同类型基因 effect 分布\n",
    "\n",
    "+ essential_gene\n",
    "+ non_targeting\n",
    "+ nonessential_gene\n",
    "+ others"
   ]
  },
  {
   "cell_type": "code",
   "execution_count": null,
   "metadata": {},
   "outputs": [],
   "source": [
    "geneTypes=readxl::read_xlsx(\"QC_crispr/example_data/4_types_of_genes.xlsx\") %>% setnames(c(\"Gene\",\"geneType\"))\n",
    "p3=chronos_gene_effect %>% \n",
    "  tidyr::pivot_longer(c(2:ncol(.)),names_to = 'Gene',values_to = 'Effect') %>% \n",
    "  inner_join(.,geneTypes) %>% \n",
    "  ggplot(aes(Effect,colour=geneType))+\n",
    "  stat_density(geom='line',position = 'identity')+\n",
    "  facet_wrap(~cell_line_name)+\n",
    "  labs(title=\"Chronos\")+\n",
    "  theme_bw(\n",
    "    base_size = 15\n",
    "  )"
   ]
  },
  {
   "cell_type": "markdown",
   "metadata": {},
   "source": [
    "#### 不同类型基因 effect boxplot可视化"
   ]
  },
  {
   "cell_type": "code",
   "execution_count": null,
   "metadata": {},
   "outputs": [],
   "source": [
    "p5=chronos_gene_effect %>% \n",
    "  tidyr::pivot_longer(c(2:ncol(.)),names_to = 'Gene',values_to = 'Effect') %>% \n",
    "  inner_join(.,geneTypes) %>% \n",
    "  ggplot(aes(x=geneType,y=Effect,fill=cell_line_name))+\n",
    "  geom_boxplot()+\n",
    "  theme_bw(\n",
    "    base_size = 15\n",
    "  )+\n",
    "  theme(\n",
    "    axis.text.x = element_text(angle = 30,vjust = 1,hjust = 1)\n",
    "  )\n",
    "  "
   ]
  },
  {
   "cell_type": "markdown",
   "metadata": {},
   "source": [
    "#### 计算SSMD 和 NNMD"
   ]
  },
  {
   "cell_type": "markdown",
   "metadata": {},
   "source": [
    "+ SSMD：strictly standardized mean difference\n",
    "+ NNMD: null-normalized median difference"
   ]
  },
  {
   "cell_type": "code",
   "execution_count": null,
   "metadata": {},
   "outputs": [],
   "source": [
    "ssmd2=chronos_gene_effect %>% \n",
    "  tidyr::pivot_longer(c(2:ncol(.)),names_to = 'Gene',values_to = 'Effect') %>% \n",
    "  inner_join(.,geneTypes) %>%\n",
    "  group_by(cell_line_name,geneType) %>% \n",
    "  summarise(\n",
    "    u=mean(Effect),\n",
    "    sd=sd(Effect)\n",
    "  ) %>% \n",
    "  filter(grepl(\"Gene\",geneType)) %>% \n",
    "  tidyr::pivot_wider(names_from = geneType, values_from = c(u,sd)) %>% \n",
    "  mutate(SSMD=(u_Essential_Gene-u_Nonessential_Gene)/sqrt(sd_Essential_Gene+sd_Nonessential_Gene)) %>% \n",
    "  mutate(Groups=c(\"Chronos\")) %>% \n",
    "  select(c('cell_line_name','SSMD','Groups'))\n",
    "\n",
    "NNMD2=chronos_gene_effect %>% \n",
    "  tidyr::pivot_longer(c(2:ncol(.)),names_to = 'Gene',values_to = 'Effect') %>% \n",
    "  inner_join(.,geneTypes) %>%\n",
    "  group_by(cell_line_name,geneType) %>% \n",
    "  summarise(\n",
    "    u=mean(Effect),\n",
    "    mad=mad(Effect)\n",
    "  ) %>% \n",
    "  filter(grepl(\"Gene\",geneType)) %>% \n",
    "  tidyr::pivot_wider(names_from = geneType, values_from = c(u,mad)) %>% \n",
    "  mutate(NNMD=(u_Essential_Gene-u_Nonessential_Gene)/mad_Nonessential_Gene) %>% \n",
    "  mutate(Groups=c(\"Chronos\")) %>% \n",
    "  select(c('cell_line_name','NNMD','Groups'))"
   ]
  },
  {
   "cell_type": "markdown",
   "metadata": {},
   "source": [
    "+ 结果可视化"
   ]
  },
  {
   "cell_type": "code",
   "execution_count": null,
   "metadata": {},
   "outputs": [],
   "source": [
    "p7=rbind(ssmd1,ssmd2) %>% as.data.frame() %>% ggplot(aes(x=cell_line_name,y=SSMD,fill=Groups))+\n",
    "  geom_bar(stat = 'identity', position='dodge') +\n",
    "  scale_fill_manual(values=c(\"Chronos\"=\"#1874CD\",\"Mageck\"=\"#7EC0EE\"))+\n",
    "  labs(title=\"SSMD\")+\n",
    "  theme_bw(\n",
    "    base_size = 15\n",
    "  )+\n",
    "  theme(\n",
    "    axis.text.x = element_text(angle = 30,vjust = 1,hjust = 1)\n",
    "  )\n",
    "\n",
    "\n",
    "p8=rbind(NNMD1,NNMD2) %>% as.data.frame() %>% ggplot(aes(x=cell_line_name,y=NNMD,fill=Groups))+\n",
    "  geom_bar(stat = 'identity', position='dodge') +\n",
    "  scale_fill_manual(values=c(\"Chronos\"=\"#1874CD\",\"Mageck\"=\"#7EC0EE\"))+\n",
    "  labs(title=\"NNMD\")+\n",
    "  theme_bw(\n",
    "    base_size = 15\n",
    "  )+\n",
    "  theme(\n",
    "    axis.text.x = element_text(angle = 30,vjust = 1,hjust = 1)\n",
    "  )\n"
   ]
  },
  {
   "cell_type": "markdown",
   "metadata": {},
   "source": [
    "#### 相关性分析\n",
    "\n",
    "Chronos的gene effect 结果与 mageck RRA 的 logfc 相关性比较"
   ]
  },
  {
   "cell_type": "code",
   "execution_count": null,
   "metadata": {},
   "outputs": [],
   "source": [
    "#log2fc vs gene_effect 相关性系数\n",
    "tmp=chronos_gene_effect %>% \n",
    "  tidyr::pivot_longer(c(2:ncol(.)),names_to = 'Gene',values_to = 'Effect') %>% \n",
    "  mutate(id=paste0(cell_line_name,\"_\",Gene))\n",
    "p9=tmps_df %>% mutate(id=paste0(groups,\"_\",gene)) %>% \n",
    "  inner_join(.,tmp) %>% \n",
    "  ggplot(aes(x=logfc,y=Effect))+\n",
    "  geom_point(aes(colour=geneType))+\n",
    "  facet_wrap(~groups)+\n",
    "  labs(title=\"Correlation\")+\n",
    "  theme_bw(\n",
    "    base_size = 15\n",
    "  )\n"
   ]
  },
  {
   "cell_type": "markdown",
   "metadata": {},
   "source": [
    "#### Rank gene effect\n",
    "\n",
    "根据 gene effect 值，进行从小到大的排序可视化\n",
    "\n",
    "目的： 寻找特定条件下的 dependency genes，用于靶点发现"
   ]
  },
  {
   "cell_type": "code",
   "execution_count": null,
   "metadata": {},
   "outputs": [],
   "source": [
    "geneTypes=readxl::read_xlsx(\"QC_crispr/example_data/4_types_of_genes.xlsx\") %>% setnames(c(\"Gene\",\"geneType\"))"
   ]
  },
  {
   "cell_type": "markdown",
   "metadata": {},
   "source": [
    "+ 全基因 gene effect 排序可视化\n",
    "+ 非 essential 基因的 gene effect 排序可视化"
   ]
  },
  {
   "cell_type": "code",
   "execution_count": null,
   "metadata": {},
   "outputs": [],
   "source": [
    "tmp=chronos_gene_effect %>% \n",
    "  tidyr::pivot_longer(c(2:ncol(.)),names_to = 'Gene',values_to = 'Effect') %>% \n",
    "  inner_join(.,geneTypes) %>% \n",
    "  mutate(geneType=as.factor(geneType))\n",
    "tmp %>% group_by(cell_line_name) %>%\n",
    "  arrange(desc(Effect)) %>% \n",
    "  mutate(rank_ID=1:n()) %>% \n",
    "  slice_min(.,Effect,n=5) -> top5_essential_genes\n",
    "p10_A=tmp %>% group_by(cell_line_name) %>% \n",
    "  arrange(desc(Effect)) %>% \n",
    "  mutate(rank_ID=1:n()) %>% \n",
    "  ggplot(aes(x=rank_ID,y=Effect))+\n",
    "  geom_point(aes(colour=geneType))+\n",
    "  geom_text_repel(aes(x=rank_ID,y= Effect,label=Gene),data=top5_essential_genes)+\n",
    "  facet_wrap(~cell_line_name)+  \n",
    "  labs(title=\"Rank Effect\")+\n",
    "  theme_bw(\n",
    "    base_size = 15\n",
    "  )+\n",
    "  theme(\n",
    "    legend.position = 'bottom'\n",
    "  )+\n",
    "  guides(colour = guide_legend(nrow = 2))\n",
    "\n",
    "tmp %>% group_by(cell_line_name) %>%\n",
    "  filter(geneType!=\"Essential_Gene\") %>% \n",
    "  arrange(desc(Effect)) %>% \n",
    "  mutate(rank_ID=1:n()) %>% \n",
    "  slice_min(.,Effect,n=5) -> top5_essential_genes\n",
    "p10_B=tmp %>% group_by(cell_line_name) %>%  \n",
    "  filter(geneType!=\"Essential_Gene\") %>% \n",
    "  arrange(desc(Effect)) %>% \n",
    "  mutate(rank_ID=1:n()) %>% \n",
    "  ggplot(aes(x=rank_ID,y=Effect))+\n",
    "  geom_point(aes(colour=geneType))+\n",
    "  geom_text_repel(aes(x=rank_ID,y= Effect,label=Gene),data=top5_essential_genes)+\n",
    "  facet_wrap(~cell_line_name)+  \n",
    "  labs(title=\"Rank Effect\")+\n",
    "  theme_bw(\n",
    "    base_size = 15\n",
    "  )+\n",
    "  theme(\n",
    "    legend.position = 'bottom'\n",
    "  )+\n",
    "  guides(colour = guide_legend(nrow = 2))"
   ]
  },
  {
   "cell_type": "markdown",
   "metadata": {},
   "source": [
    "#### 交叉比较分析\n",
    "\n",
    "主要目的，是为了在多组条件下，筛选潜在的dependency genes\n",
    "\n",
    "1. 同一化合物，不同时间点，gene effect 比较分析\n",
    "2. 同一时间点，不同化合物，gene effect 比较分析\n",
    "\n",
    "参考 `regression_linear.R`"
   ]
  },
  {
   "cell_type": "code",
   "execution_count": null,
   "metadata": {},
   "outputs": [],
   "source": [
    "#计算回归曲线的，以及回归曲线中散点图的分布\n",
    "chronos_gene_effect<-fread(\"Project_02/Achilles_run/gene_effects.csv\")\n",
    "geneTypes=readxl::read_xlsx(\"QC_crispr/example_data/4_types_of_genes.xlsx\") %>% setnames(c(\"Gene\",\"geneType\"))\n"
   ]
  },
  {
   "cell_type": "code",
   "execution_count": null,
   "metadata": {},
   "outputs": [],
   "source": [
    "#同一化合物，不同时间点比较\n",
    "chronos_gene_effect %>% \n",
    "  tidyr::pivot_longer(c(2:ncol(.)),names_to = 'Gene',values_to = 'Effect') %>% \n",
    "  inner_join(.,geneTypes) %>% filter(geneType!=\"Essential_Gene\") %>% \n",
    "  mutate(Days=gsub(\".*(D[0-9]{2})\\\\-.*\",\"\\\\1\",cell_line_name)) %>% \n",
    "  mutate(Compound=gsub(\".*\\\\-(\\\\w*)\",\"\\\\1\",cell_line_name)) %>%\n",
    "  select(c(Days,Gene,Effect,Compound)) %>% \n",
    "  tidyr::pivot_wider(names_from = Days, values_from = c(Effect)) %>% \n",
    "  setnames(c(\"Gene\",\"Compound\",\"y\",\"x\")) -> regression_data\n",
    "#计算回归方程的系数\n",
    "alphas=seq(0.1,10,by=0.1)\n",
    "absolute_erros = lapply(\n",
    "  alphas,\n",
    "  FUN = function(alpha) {\n",
    "    sum_absolute_error = regression_data %>%\n",
    "      #计算垂直距离\n",
    "      mutate(y_dist = abs(y - x * alpha)*(1/sqrt(1+alpha^2))) %>%\n",
    "      select(y_dist) %>% sum()\n",
    "  }\n",
    ")\n",
    "candidate_alpha=alphas[which.min(absolute_erros)]\n",
    "\n",
    "#结果可视化，采用6倍SD，可以根据项目改动\n",
    "sigma_sd = regression_data %>% mutate(y_dist = (y - x * candidate_alpha)*(1/sqrt(1+candidate_alpha^2)) ) %>% pull(y_dist) %>% sd()*6\n",
    "library(ggrepel)\n",
    "p1=regression_data %>% \n",
    "  ggplot(aes(x=x,y=y))+\n",
    "  geom_point()+\n",
    "  geom_point(aes(x=x,y=y),colour='grey',\n",
    "             data=regression_data %>% \n",
    "               mutate(y_dist = (y - x * candidate_alpha)*(1/sqrt(1+candidate_alpha^2)) )%>% \n",
    "               filter(abs(y_dist) < sigma_sd)\n",
    "             )+\n",
    "  geom_text_repel(aes(x=x,y=y,label=Gene),\n",
    "                  data=regression_data %>% \n",
    "                    mutate(y_dist = (y - x * candidate_alpha)*(1/sqrt(1+candidate_alpha^2)) )%>% \n",
    "                    filter(abs(y_dist) > sigma_sd)\n",
    "                  )+\n",
    "  geom_abline(slope = candidate_alpha,\n",
    "              intercept = 0,colour='red',lwd=1.2)+\n",
    "  #计算上部截距\n",
    "  geom_abline(slope = candidate_alpha,\n",
    "              intercept = c(sigma_sd/(1/sqrt(1+candidate_alpha^2))),\n",
    "              colour='grey',lty=2,lwd=1.2)+\n",
    "  #计算下部截距\n",
    "  geom_abline(slope = candidate_alpha,\n",
    "              intercept = c(- sigma_sd/(1/sqrt(1+candidate_alpha^2))),\n",
    "              colour='grey',lty=2,lwd=1.2)+\n",
    "  facet_wrap(~Compound)+\n",
    "  labs(x=\"D21\",y=\"D14\")+\n",
    "  theme_bw(\n",
    "    base_size = 15\n",
    "  )"
   ]
  },
  {
   "cell_type": "code",
   "execution_count": null,
   "metadata": {},
   "outputs": [],
   "source": [
    "#不同化合物，同一时间点比较\n",
    "chronos_gene_effect %>% \n",
    "  tidyr::pivot_longer(c(2:ncol(.)),names_to = 'Gene',values_to = 'Effect') %>% \n",
    "  inner_join(.,geneTypes) %>% filter(geneType!=\"Essential_Gene\") %>% \n",
    "  mutate(Days=gsub(\".*(D[0-9]{2})\\\\-.*\",\"\\\\1\",cell_line_name)) %>% \n",
    "  mutate(Compound=gsub(\".*\\\\-(\\\\w*)\",\"\\\\1\",cell_line_name)) %>%\n",
    "  select(c(Days,Gene,Effect,Compound)) %>% \n",
    "  tidyr::pivot_wider(names_from = Compound, values_from = c(Effect))%>% \n",
    "  setnames(c(\"Days\",\"Gene\",\"y\",\"x\")) -> regression_data\n",
    "#计算回归方程的系数\n",
    "alphas=seq(0.1,10,by=0.1)\n",
    "absolute_erros = lapply(\n",
    "  alphas,\n",
    "  FUN = function(alpha) {\n",
    "    sum_absolute_error = regression_data %>%\n",
    "      #计算垂直距离\n",
    "      mutate(y_dist = abs(y - x * alpha)*(1/sqrt(1+alpha^2))) %>%\n",
    "      select(y_dist) %>% sum()\n",
    "  }\n",
    ")\n",
    "candidate_alpha=alphas[which.min(absolute_erros)]\n",
    "\n",
    "#结果可视化，采用6倍SD，可以根据项目改动\n",
    "sigma_sd = regression_data %>% mutate(y_dist = (y - x * candidate_alpha)*(1/sqrt(1+candidate_alpha^2)) ) %>% pull(y_dist) %>% sd()*6\n",
    "library(ggrepel)\n",
    "p2=regression_data %>% \n",
    "  ggplot(aes(x=x,y=y))+\n",
    "  geom_point()+\n",
    "  geom_point(aes(x=x,y=y),colour='grey',\n",
    "             data=regression_data %>% \n",
    "               mutate(y_dist = (y - x * candidate_alpha)*(1/sqrt(1+candidate_alpha^2)) )%>% \n",
    "               filter(abs(y_dist) < sigma_sd)\n",
    "  )+\n",
    "  geom_text_repel(aes(x=x,y=y,label=Gene),\n",
    "                  data=regression_data %>%\n",
    "                    mutate(y_dist = (y - x * candidate_alpha)*(1/sqrt(1+candidate_alpha^2)) )%>%\n",
    "                    filter(abs(y_dist) > sigma_sd)\n",
    "  )+\n",
    "  geom_abline(slope = candidate_alpha,\n",
    "              intercept = 0,colour='red',lwd=1.2)+\n",
    "  #计算上部截距\n",
    "  geom_abline(slope = candidate_alpha,\n",
    "              intercept = c(sigma_sd/(1/sqrt(1+candidate_alpha^2))),\n",
    "              colour='grey',lty=2,lwd=1.2)+\n",
    "  #计算下部截距\n",
    "  geom_abline(slope = candidate_alpha,\n",
    "              intercept = c(- sigma_sd/(1/sqrt(1+candidate_alpha^2))),\n",
    "              colour='grey',lty=2,lwd=1.2)+\n",
    "  facet_wrap(~Days)+\n",
    "  labs(x=\"NTC\",y=\"KAT7\")+\n",
    "  theme_bw(\n",
    "    base_size = 15\n",
    "  )"
   ]
  },
  {
   "cell_type": "code",
   "execution_count": null,
   "metadata": {},
   "outputs": [],
   "source": [
    "ps=ggarrange(p1,p2,nrow = 1)\n",
    "ggsave(\"fig6_cross_comparisions_withoutessenGenes.jpg\",ps,width = 12,height = 4)"
   ]
  },
  {
   "attachments": {},
   "cell_type": "markdown",
   "metadata": {},
   "source": [
    "+ 结论：\n",
    "\n",
    "  1. 同一药物处理的细胞，不同时间点gene effect比较；gene dependency有明显时间效应，尤其是在KAT7组，相对差异基因多于NTC组\n",
    "  2. 同一时间点不同药物处理细胞后，gene effect比较；明显的时间依赖性，在D21 会筛选出较多的 genes, 其中SNRPE基因较为显著\n",
    " \n",
    "具体比较分析结果在： D:\\CRISPR\\chronos_vs_mageck"
   ]
  },
  {
   "cell_type": "code",
   "execution_count": null,
   "metadata": {},
   "outputs": [],
   "source": []
  },
  {
   "cell_type": "code",
   "execution_count": null,
   "metadata": {},
   "outputs": [],
   "source": []
  },
  {
   "cell_type": "markdown",
   "metadata": {},
   "source": [
    "### Mageck-RRA 分析结果"
   ]
  },
  {
   "cell_type": "code",
   "execution_count": null,
   "metadata": {},
   "outputs": [],
   "source": [
    "#mageck rra的分析结果\n",
    "#D:\\CRISPR\\QC_crispr\\example_data\\RRA\\A375-D14-KAT7_vs_A375-Base-KAT7\n",
    "tmps=lapply(\n",
    "  list.files(\"QC_crispr/example_data/RRA/\"),\n",
    "  FUN = function(x){\n",
    "    tmp=readxl::read_xlsx(paste0(\"QC_crispr/example_data/RRA/\",x,\"/\",x,\".RRA.gene_summary.xlsx\")) %>%\n",
    "      mutate(group=gsub(\"(.*)\\\\_vs\\\\_.*\",\"\\\\1\",x)) %>% \n",
    "      select(c(1,7,group,label)) %>% \n",
    "      setnames(c(\"gene\",'logfc','groups','geneType'))\n",
    "  }\n",
    ")\n",
    "tmps_df=rbindlist(tmps)"
   ]
  },
  {
   "cell_type": "code",
   "execution_count": null,
   "metadata": {},
   "outputs": [],
   "source": [
    "p2=tmps_df %>% \n",
    "  ggplot(aes(logfc,colour=groups))+\n",
    "  stat_density(geom='line',position = 'identity')+\n",
    "  labs(title=\"Mageck RRA\")+\n",
    "  theme_bw(\n",
    "    base_size = 15\n",
    "  )+\n",
    "  theme(\n",
    "    legend.position =  c(0.2,0.8),\n",
    "    legend.background = element_blank()\n",
    "  )\n",
    "\n",
    "p4=tmps_df %>% \n",
    "  ggplot(aes(logfc,colour=geneType))+\n",
    "  stat_density(geom='line',position = 'identity')+\n",
    "  facet_wrap(~groups)+\n",
    "  labs(title=\"Mageck RRA\")+\n",
    "  theme_bw(\n",
    "    base_size = 15\n",
    "  )\n",
    "\n",
    "p6=tmps_df %>% ggplot(aes(x=geneType,y=logfc,fill=groups))+\n",
    "  geom_boxplot()+\n",
    "  theme_bw(\n",
    "    base_size = 15\n",
    "  )+\n",
    "  theme(\n",
    "    axis.text.x = element_text(angle = 30,vjust = 1,hjust = 1)\n",
    "  )\n",
    "\n",
    "#计算SSMD\n",
    "ssmd1=tmps_df %>% group_by(groups,geneType) %>% \n",
    "  summarise(\n",
    "    u=mean(logfc),\n",
    "    sd=sd(logfc)\n",
    "  ) %>% \n",
    "  filter(grepl(\"Gene\",geneType)) %>% \n",
    "  tidyr::pivot_wider(names_from = geneType, values_from = c(u,sd)) %>% \n",
    "  mutate(SSMD=(u_Essential_Gene-u_Nonessential_Gene)/sqrt(sd_Essential_Gene+sd_Nonessential_Gene)) %>% \n",
    "  select(c(1,6)) %>% mutate(Groups=c(\"Mageck\"))%>% setnames(c(\"cell_line_name\",\"SSMD\",'Groups')) \n",
    "\n",
    "NNMD1=tmps_df %>% group_by(groups,geneType) %>% \n",
    "  summarise(\n",
    "    u=median(logfc),\n",
    "    mad=mad(logfc)\n",
    "  ) %>% \n",
    "  filter(grepl(\"Gene\",geneType)) %>% \n",
    "  tidyr::pivot_wider(names_from = geneType, values_from = c(u,mad)) %>% \n",
    "  mutate(NNMD=(u_Essential_Gene-u_Nonessential_Gene)/mad_Nonessential_Gene) %>% \n",
    "  select(c(1,6)) %>% mutate(Groups=c(\"Mageck\"))%>% setnames(c(\"cell_line_name\",\"NNMD\",'Groups')) \n"
   ]
  },
  {
   "cell_type": "code",
   "execution_count": null,
   "metadata": {},
   "outputs": [],
   "source": []
  },
  {
   "cell_type": "markdown",
   "metadata": {},
   "source": [
    "## sgRNA QC 分析\n",
    "\n",
    "使用mageck count，从fastq中解析出sgRNA coutns；基于样本 sgRNA counts 进行数据指控：\n",
    "\n",
    "1. mapping rate\n",
    "2. gini index\n",
    "3. zero counts\n",
    "4. counts distribution boxplot\n",
    "5. counts distribution density\n",
    "6. counts distribution cumulative distribution\n",
    "7. positive / negative controls\n",
    "\n",
    "分析结果在： D:\\CRISPR\\QC_crispr"
   ]
  },
  {
   "cell_type": "code",
   "execution_count": null,
   "metadata": {},
   "outputs": [],
   "source": [
    "library(data.table)\n",
    "library(dplyr)\n",
    "library(ggplot2)\n",
    "library(tidyr)\n",
    "\n",
    "\n",
    "count_summary<-fread(\"QC_crispr/G1/group_G1.countsummary.txt\")"
   ]
  },
  {
   "cell_type": "markdown",
   "metadata": {},
   "source": [
    "### mapping rate"
   ]
  },
  {
   "cell_type": "code",
   "execution_count": null,
   "metadata": {},
   "outputs": [],
   "source": [
    "p1=count_summary %>% \n",
    "  mutate(Unmapped=Reads-Mapped) %>% \n",
    "  select(c(Label,Unmapped,Mapped)) %>%\n",
    "  tidyr::pivot_longer(c(Mapped,Unmapped),names_to = 'Group',values_to = 'Reads') %>%\n",
    "  group_by(Label) %>% \n",
    "  mutate(Rate=round(Reads/sum(Reads),3)) %>% \n",
    "  ggplot(aes(x=Label,y=Reads))+\n",
    "  geom_col(aes(fill=Group),position = position_stack(reverse = T),width = 0.8)+\n",
    "  geom_text(aes(x=Label,y=Reads,label=ifelse(Group==\"Mapped\",Rate,'')),size=4) +\n",
    "  labs(x=\"\")+\n",
    "  scale_fill_manual(values=c(\"Mapped\"=\"#1874CD\",\"Unmapped\"=\"#7EC0EE\"))+\n",
    "  theme_bw(\n",
    "    base_size = 15\n",
    "  )+\n",
    "  theme(\n",
    "    axis.text.x = element_text(angle = 90,vjust = 0.5,hjust = 1),\n",
    "    legend.title=element_blank(),\n",
    "    legend.position =  c(0.1,0.95),\n",
    "    legend.background = element_blank()\n",
    "  )\n",
    "ggsave('fig1.png',p1,width = 10,height = 5)"
   ]
  },
  {
   "cell_type": "code",
   "execution_count": null,
   "metadata": {},
   "outputs": [],
   "source": []
  },
  {
   "cell_type": "markdown",
   "metadata": {},
   "source": [
    "### gini index\n",
    "\n",
    "mageck 给出的结果，在0.25以上则表明sgRNA文库有明显的偏移"
   ]
  },
  {
   "cell_type": "code",
   "execution_count": null,
   "metadata": {},
   "outputs": [],
   "source": [
    "p2=count_summary %>% \n",
    "  ggplot(aes(x=Label,y=GiniIndex))+\n",
    "  geom_bar(stat = \"identity\",fill=\"#1874CD\")+\n",
    "  labs(x=\"\")+\n",
    "  theme_bw(\n",
    "    base_size = 15\n",
    "  )+\n",
    "  theme(\n",
    "    axis.text.x = element_text(angle = 90,vjust = 0.5,hjust = 1),\n",
    "  )\n",
    "ggsave('fig2.png',p2,width = 10,height = 5)"
   ]
  },
  {
   "cell_type": "markdown",
   "metadata": {},
   "source": [
    "### zero count\n",
    "\n",
    "同样地，样本zero count也不能过多，否则会产生偏移，具体多少是多呢？"
   ]
  },
  {
   "cell_type": "code",
   "execution_count": null,
   "metadata": {},
   "outputs": [],
   "source": [
    "\n",
    "p3=count_summary %>% \n",
    "  ggplot(aes(x=Label,y=Zerocounts))+\n",
    "  geom_bar(stat = \"identity\",fill=\"#1874CD\")+\n",
    "  labs(x=\"\")+\n",
    "  theme_bw(\n",
    "    base_size = 15\n",
    "  )+\n",
    "  theme(\n",
    "    axis.text.x = element_text(angle = 90,vjust = 0.5,hjust = 1),\n",
    "  )\n",
    "ggsave('fig3.png',p3,width = 10,height = 5)"
   ]
  },
  {
   "cell_type": "markdown",
   "metadata": {},
   "source": [
    "### counts distribution Boxplot"
   ]
  },
  {
   "cell_type": "code",
   "execution_count": null,
   "metadata": {},
   "outputs": [],
   "source": [
    "\n",
    "sgRNA_count=fread(\"QC_crispr/G1/group_G1.count.txt\")\n",
    "p4=sgRNA_count %>% select(-c(1,2)) %>% \n",
    "  tidyr::pivot_longer(everything(),names_to = 'Samples',values_to = 'Reads') %>% \n",
    "  ggplot(aes(x=Samples,y=log2(Reads+1)))+\n",
    "  geom_boxplot(fill=\"#1874CD\")+\n",
    "  labs(x=\"\",y=\"Log2 transformed sgRNA counts\")+\n",
    "  theme_bw(\n",
    "    base_size = 15\n",
    "  )+\n",
    "  theme(\n",
    "    axis.text.x = element_text(angle = 90,vjust = 0.5,hjust = 1),\n",
    "  )\n",
    "ggsave('fig4.png',p4,width = 10,height = 5)"
   ]
  },
  {
   "cell_type": "markdown",
   "metadata": {},
   "source": [
    "### counts distribution Density plot"
   ]
  },
  {
   "cell_type": "code",
   "execution_count": null,
   "metadata": {},
   "outputs": [],
   "source": [
    "\n",
    "p5=sgRNA_count %>% select(-c(1,2)) %>% \n",
    "  tidyr::pivot_longer(everything(),names_to = 'Samples',values_to = 'Reads') %>% \n",
    "  ggplot(aes(Reads,colour=Samples))+\n",
    "  stat_density(geom='line',position = 'identity')+\n",
    "  labs(x=\"Reads Count\",y='Frequency',title = 'Density plot of sgRNA reads')+\n",
    "  theme_bw(\n",
    "    base_size = 15\n",
    "  )+\n",
    "  theme(\n",
    "    legend.title=element_blank(),\n",
    "    legend.position =  c(0.8,0.5),\n",
    "    legend.background = element_blank()\n",
    "  )\n",
    "ggsave('fig5.png',p5,width = 10,height = 5)\n"
   ]
  },
  {
   "cell_type": "markdown",
   "metadata": {},
   "source": [
    "### counts distribution Cumulative plot"
   ]
  },
  {
   "cell_type": "code",
   "execution_count": null,
   "metadata": {},
   "outputs": [],
   "source": [
    "\n",
    "p6=sgRNA_count %>% select(-c(1,2)) %>% \n",
    "  tidyr::pivot_longer(everything(),names_to = 'Samples',values_to = 'Reads') %>% \n",
    "  ggplot(aes(Reads,colour=Samples))+\n",
    "  stat_ecdf()+\n",
    "  labs(x=\"Reads Count\",y='Likelihood Probability',title = 'Cumulative distribution')+\n",
    "  theme_bw(\n",
    "    base_size = 15\n",
    "  )+\n",
    "  theme(\n",
    "    legend.title=element_blank(),\n",
    "    legend.position =  c(0.8,0.5),\n",
    "    legend.background = element_blank()\n",
    "  )+\n",
    "  xlim(c(1,20000))"
   ]
  },
  {
   "cell_type": "markdown",
   "metadata": {},
   "source": [
    "### sgRNA efficiency QC"
   ]
  },
  {
   "cell_type": "code",
   "execution_count": null,
   "metadata": {},
   "outputs": [],
   "source": [
    "\n",
    "gene_type=fread(\"QC_crispr/example_data/human.CRISPR_gene_type.depmap22Q2.csv\")\n",
    "experiments=c(\n",
    "  \"A375-D14-KAT7_vs_A375-Base-KAT7\",\n",
    "  \"A375-D21-KAT7_vs_A375-Base-KAT7\"\n",
    ")\n",
    "getRRA_gene_summary<-function(comparision){\n",
    "  path_to_gene_summary=sprintf(\"QC_crispr/example_data/RRA/%s/%s.gene_summary.txt\",comparision,comparision)\n",
    "  rra_results=ReadRRA(path_to_gene_summary) %>% \n",
    "    select(c(1,2)) %>% \n",
    "    setnames(c(\"Gene\",\"LFC\")) %>% \n",
    "    left_join(.,gene_type) %>% \n",
    "    mutate(Classification=ifelse(is.na(label),\n",
    "                                 ifelse(grepl(\"CTRL\",Gene),\n",
    "                                        'Non-target','other'),\n",
    "                                 label)) %>% \n",
    "    mutate(Group=comparision) %>% \n",
    "    select(-label)\n",
    "  return(rra_results)\n",
    "}\n",
    "\n",
    "tmps=lapply(\n",
    "  experiments,\n",
    "  FUN=function(x){\n",
    "    tmp=getRRA_gene_summary(x)\n",
    "  }\n",
    ")\n",
    "tmps_df=rbindlist(tmps)\n",
    "\n",
    "p7=tmps_df %>% ggplot(aes(x=Classification,y=LFC,fill=Group))+\n",
    "  geom_boxplot()+\n",
    "  labs(x=\"Gene\",y='Log2 Fold Change')+\n",
    "  scale_fill_manual(values=c(\"#1874CD\",\"#7EC0EE\"))+\n",
    "  theme_bw(\n",
    "    base_size = 15\n",
    "  )+\n",
    "  theme(\n",
    "    legend.title=element_blank(),\n",
    "    legend.background = element_blank()\n",
    "  )\n",
    "ggsave('fig7.png',p7,width = 10,height = 5)"
   ]
  },
  {
   "cell_type": "markdown",
   "metadata": {},
   "source": [
    "### 样本间的PCA分析"
   ]
  },
  {
   "cell_type": "code",
   "execution_count": null,
   "metadata": {},
   "outputs": [],
   "source": []
  },
  {
   "cell_type": "code",
   "execution_count": null,
   "metadata": {},
   "outputs": [],
   "source": []
  },
  {
   "cell_type": "code",
   "execution_count": null,
   "metadata": {},
   "outputs": [],
   "source": []
  },
  {
   "cell_type": "code",
   "execution_count": null,
   "metadata": {},
   "outputs": [],
   "source": []
  },
  {
   "cell_type": "code",
   "execution_count": null,
   "metadata": {},
   "outputs": [],
   "source": []
  }
 ],
 "metadata": {
  "kernelspec": {
   "display_name": "chronos",
   "language": "python",
   "name": "chronos"
  },
  "language_info": {
   "codemirror_mode": {
    "name": "ipython",
    "version": 3
   },
   "file_extension": ".py",
   "mimetype": "text/x-python",
   "name": "python",
   "nbconvert_exporter": "python",
   "pygments_lexer": "ipython3",
   "version": "3.11.7"
  },
  "toc": {
   "base_numbering": 1,
   "nav_menu": {
    "height": "183.991px",
    "width": "287.997px"
   },
   "number_sections": true,
   "sideBar": true,
   "skip_h1_title": false,
   "title_cell": "Table of Contents",
   "title_sidebar": "Contents",
   "toc_cell": false,
   "toc_position": {
    "height": "calc(100% - 180px)",
    "left": "10px",
    "top": "150px",
    "width": "272px"
   },
   "toc_section_display": true,
   "toc_window_display": true
  }
 },
 "nbformat": 4,
 "nbformat_minor": 4
}
